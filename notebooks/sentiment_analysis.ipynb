{
 "cells": [
  {
   "cell_type": "code",
   "execution_count": 11,
   "metadata": {},
   "outputs": [],
   "source": [
    "import pandas as pd\n",
    "import nltk\n",
    "from nltk.sentiment.vader import SentimentIntensityAnalyzer"
   ]
  },
  {
   "cell_type": "code",
   "execution_count": 12,
   "metadata": {},
   "outputs": [],
   "source": [
    "df_suicide_detection = pd.read_csv('prepared.csv').drop('Unnamed: 0',axis=1)\n",
    "df_suicide_detection['corpus'] = df_suicide_detection['corpus'].apply(lambda x: x[1:-1].replace(\"'\", \"\").split(', '))"
   ]
  },
  {
   "cell_type": "code",
   "execution_count": 13,
   "metadata": {},
   "outputs": [
    {
     "name": "stderr",
     "output_type": "stream",
     "text": [
      "[nltk_data] Downloading package vader_lexicon to\n",
      "[nltk_data]     C:\\Users\\user\\AppData\\Roaming\\nltk_data...\n",
      "[nltk_data]   Package vader_lexicon is already up-to-date!\n"
     ]
    }
   ],
   "source": [
    "nltk.download('vader_lexicon')\n",
    "\n",
    "sid = SentimentIntensityAnalyzer()\n",
    "\n",
    "def sentiment_analysis(text):\n",
    "    text = ' '.join(text)\n",
    "    sentiment = sid.polarity_scores(text)\n",
    "    return sentiment\n",
    "\n",
    "# df_suicide_detection['sentiment'] = df_suicide_detection['corpus'].apply(lambda text: ' '.join(text))\n",
    "df_suicide_detection['sentiment'] = df_suicide_detection['corpus'].apply(sentiment_analysis)"
   ]
  },
  {
   "cell_type": "code",
   "execution_count": 14,
   "metadata": {},
   "outputs": [
    {
     "data": {
      "text/html": [
       "<div>\n",
       "<style scoped>\n",
       "    .dataframe tbody tr th:only-of-type {\n",
       "        vertical-align: middle;\n",
       "    }\n",
       "\n",
       "    .dataframe tbody tr th {\n",
       "        vertical-align: top;\n",
       "    }\n",
       "\n",
       "    .dataframe thead th {\n",
       "        text-align: right;\n",
       "    }\n",
       "</style>\n",
       "<table border=\"1\" class=\"dataframe\">\n",
       "  <thead>\n",
       "    <tr style=\"text-align: right;\">\n",
       "      <th></th>\n",
       "      <th>non_suicide</th>\n",
       "      <th>suicide</th>\n",
       "    </tr>\n",
       "  </thead>\n",
       "  <tbody>\n",
       "    <tr>\n",
       "      <th>neg</th>\n",
       "      <td>0.137618</td>\n",
       "      <td>0.209482</td>\n",
       "    </tr>\n",
       "    <tr>\n",
       "      <th>neu</th>\n",
       "      <td>0.685859</td>\n",
       "      <td>0.624937</td>\n",
       "    </tr>\n",
       "    <tr>\n",
       "      <th>pos</th>\n",
       "      <td>0.176412</td>\n",
       "      <td>0.165581</td>\n",
       "    </tr>\n",
       "    <tr>\n",
       "      <th>compound</th>\n",
       "      <td>0.082155</td>\n",
       "      <td>-0.248371</td>\n",
       "    </tr>\n",
       "  </tbody>\n",
       "</table>\n",
       "</div>"
      ],
      "text/plain": [
       "          non_suicide   suicide\n",
       "neg          0.137618  0.209482\n",
       "neu          0.685859  0.624937\n",
       "pos          0.176412  0.165581\n",
       "compound     0.082155 -0.248371"
      ]
     },
     "execution_count": 14,
     "metadata": {},
     "output_type": "execute_result"
    }
   ],
   "source": [
    "grouped = df_suicide_detection.groupby(df_suicide_detection['class'])['sentiment'].apply(list).reset_index()\n",
    "\n",
    "df_sentiment = pd.concat([\n",
    "    pd.DataFrame(grouped['sentiment'].iloc[0]).mean(),\n",
    "    pd.DataFrame(grouped['sentiment'].iloc[1]).mean()],\n",
    "axis=1,\n",
    ")\n",
    "df_sentiment.columns=['non_suicide','suicide']\n",
    "df_sentiment"
   ]
  },
  {
   "cell_type": "markdown",
   "metadata": {},
   "source": [
    "W kategorii 'suicide' średnio występuje wyższy negatywny sentyment (0.209) niż w 'non_suicide' (0.137). Może to sugerować, że wpisy związane ze słowami samobójstwa mogą zawierać więcej treści o negatywnym nastroju.  \n",
    "Wskaźniki nutralny i pozytywny zbliżone.  \n",
    "Compound jest wartością ogólną sentymentu. W 'suicide' jest on niższy (-0.248) niż w 'non_suicide' (0.082). Może to wskazywać, że ogólny nastrojowy kontekst w kategoriach 'suicide' jest bardziej skłonny ku negatywności w porównaniu do 'non_suicide'."
   ]
  },
  {
   "cell_type": "markdown",
   "metadata": {},
   "source": [
    "Extreme opinions"
   ]
  },
  {
   "cell_type": "code",
   "execution_count": 15,
   "metadata": {},
   "outputs": [
    {
     "name": "stdout",
     "output_type": "stream",
     "text": [
      "Extremely negative:\n",
      "                                                   corpus  class\n",
      "349     [want, end, myselfsad, pain, sad, pain, sad, p...      1\n",
      "3457    [meow, cat, unmut, zoom, fuck, fuck, fuck, fuc...      0\n",
      "4851    [fuck, mess, much, time, nsfw, due, languageco...      1\n",
      "5130    [fuck, ghod, go, shtit, abnd, cum, nmi, teache...      0\n",
      "8055    [easier, kill, go, traumai, wan, na, fuck, km,...      1\n",
      "10313   [im, turn, soon, im, fuckkmg, terrifi, might, ...      1\n",
      "11816   [predict, feel, rn, shit, fuck, shit, fuck, sh...      0\n",
      "25016   [unwant, unwant, unwant, unlov, unlov, cure, c...      1\n",
      "30228   [hurtshurt, hurt, hurt, hurt, hurt, hurt, hurt...      1\n",
      "39248   [exist, fuck, nightmareeveri, fuck, time, some...      1\n",
      "39314   [fuck, brice, maddock, fuck, brice, maddock, f...      0\n",
      "42340   [fuck, fuck, fuck, fuck, fuckfuck, fuck, fuck,...      1\n",
      "43720   [need, let, anger, fuck, fuck, fuck, shit, fuc...      0\n",
      "45395   [kill, pleasejust, kill, kill, kill, kill, kil...      1\n",
      "48117   [kill, mekil, kill, kill, kill, kill, kill, ki...      1\n",
      "48372   [want, kill, good, reason, toonot, even, reddi...      1\n",
      "53108   [petit, make, shit, fuck, shit, fuck, shit, fu...      0\n",
      "55973   [fuck, sake, let, fuck, diei, want, fuck, help...      1\n",
      "58165   [stori, time, child, one, hot, ass, mother, fu...      0\n",
      "59900   [wan, na, die, wan, na, die, wan, na, die, wan...      1\n",
      "61620   [fuck, fuck, fuck, fuck, fuck, fuck, fuck, fuc...      0\n",
      "71328   [let, dielet, die, let, die, let, die, let, di...      1\n",
      "84419   [thatwhat, fuck, parent, fuck, childim, hurt, ...      1\n",
      "87847   [therapeut, ass, popper, gtass, ass, ass, ass,...      0\n",
      "89666   [slump, ak, syrup, enrgi, made, one, shot, bla...      0\n",
      "91325   [start, write, thought, occur, panic, attack, ...      1\n",
      "97434   [want, diei, want, die, want, die, want, die, ...      1\n",
      "106256  [want, diei, want, die, want, die, want, die, ...      1\n",
      "113245  [hmmmi, want, die, want, die, want, die, want,...      1\n",
      "117961  [realli, hate, myselfi, hate, disappoint, fami...      1\n",
      "126547  [fuck, stay, aliv, fuck, need, perfect, anyon,...      1\n",
      "128629  [trappedtrap, trap, trap, trap, trap, trap, tr...      1\n",
      "136782  [fuck, fuckok, fuck, life, fuck, reason, haven...      1\n",
      "137950  [get, piec, shiti, hate, hate, hate, hate, hat...      1\n",
      "145250  [damn, like, imagin, girl, dick, bring, endles...      0\n",
      "145796  [want, see, world, burn, hate, world, hate, fu...      1\n",
      "168906  [im, kill, myselfim, kill, im, kill, im, kill,...      1\n",
      "169213  [wan, na, diei, wan, na, die, wan, na, die, wa...      1\n",
      "176768  [fuck, moneyfuck, money, fuck, money, fuck, mo...      1\n",
      "177359  [realiz, im, technic, incel, mean, incel, some...      0\n",
      "178975  [hate, everyth, hate, everyth, hate, abl, casu...      0\n",
      "181642  [want, kill, want, kill, self, want, kill, wan...      1\n",
      "182648  [fuck, fuck, fuck, fuck, fuck, fuck, fuck, fuc...      0\n",
      "192298  [tire, fuck, expressionth, express, piss, ever...      1\n",
      "193618  [coordin, piss, version, piss, scott, hey, pis...      0\n",
      "193749  [peopl, middl, school, alreadi, sex, drug, im,...      1\n",
      "196874  [found, insult, wan, na, copi, past, everywher...      0\n",
      "198503  [get, fuck, get, fuck, get, fuck, get, fuck, g...      0\n",
      "206394  [im, bore, im, bore, im, bore, im, bore, im, b...      0\n",
      "221161  [fuck, fuck, fuck, fuck, fuck, fuck, fuck, fuc...      0\n",
      "228169  [kill, kill, kill, mekil, kill, kill, kill, ki...      1\n",
      "229295  [want, fuck, fuck, fuck, fuck, fuck, fuck, fuc...      0\n"
     ]
    }
   ],
   "source": [
    "extremely_negative = df_suicide_detection[df_suicide_detection['sentiment'].apply(lambda x: x['compound'] < -0.999)]\n",
    "\n",
    "print(\"Extremely negative:\")\n",
    "print(extremely_negative[['corpus', 'class']])"
   ]
  },
  {
   "cell_type": "code",
   "execution_count": 16,
   "metadata": {},
   "outputs": [
    {
     "name": "stdout",
     "output_type": "stream",
     "text": [
      "Extremely positive:\n",
      "                                                   corpus  class\n",
      "4182    [talk, mei, need, lp, need, help, need, help, ...      1\n",
      "8576    [may, may, get, notic, post, anyway, care, you...      0\n",
      "15960   [read, love, love, love, love, love, love, lov...      0\n",
      "47133   [your, ever, sad, rememb, your, world, glam, p...      0\n",
      "51231   [remind, kid, eat, rich, eat, rich, eat, rich,...      0\n",
      "100538  [know, yall, struggl, wow, wow, wow, wow, wow,...      0\n",
      "102353  [unpopular, opinion, peopl, alway, think, life...      0\n",
      "128874  [good, day, pleas, thank, good, day, good, day...      0\n",
      "155426  [school, motto, kinda, cring, care, share, dar...      0\n",
      "170713  [copypasta, im, six, pardon, grammar, nasti, c...      0\n",
      "172202  [need, helpi, need, help, need, help, need, he...      1\n",
      "173312  [pleas, help, mei, need, help, need, help, nee...      1\n",
      "177068  [mf, like, mf, like, mf, like, mf, like, mf, l...      0\n",
      "178552  [love, love, love, love, love, love, love, lov...      0\n",
      "206473  [georg, floyd, moment, xd, xd, xd, xd, xd, xd,...      0\n",
      "214457  [pleas, help, mepleas, help, pleas, help, plea...      1\n"
     ]
    }
   ],
   "source": [
    "extremely_positive = df_suicide_detection[df_suicide_detection['sentiment'].apply(lambda x: x['compound'] > 0.999)]\n",
    "\n",
    "print(\"Extremely positive:\")\n",
    "print(extremely_positive[['corpus', 'class']])"
   ]
  },
  {
   "cell_type": "markdown",
   "metadata": {},
   "source": [
    "Adjusted"
   ]
  },
  {
   "cell_type": "code",
   "execution_count": 18,
   "metadata": {},
   "outputs": [],
   "source": [
    "def adjust_sentiment(text, sentiment):\n",
    "    if \"help\" in text:\n",
    "        return -0.5  \n",
    "    return sentiment \n",
    "\n",
    "def sentiment_analysis(text):\n",
    "    text = \" \".join(text)\n",
    "    sentiment = sid.polarity_scores(text)\n",
    "    if \"help\" in text:\n",
    "        sentiment['compound'] -= 0.5 \n",
    "    return sentiment\n",
    "\n",
    "df_suicide_detection['adjusted_sentiment'] = df_suicide_detection.apply(lambda row: adjust_sentiment(row['corpus'], row['sentiment']['compound']), axis=1)"
   ]
  },
  {
   "cell_type": "code",
   "execution_count": 19,
   "metadata": {},
   "outputs": [
    {
     "data": {
      "text/html": [
       "<div>\n",
       "<style scoped>\n",
       "    .dataframe tbody tr th:only-of-type {\n",
       "        vertical-align: middle;\n",
       "    }\n",
       "\n",
       "    .dataframe tbody tr th {\n",
       "        vertical-align: top;\n",
       "    }\n",
       "\n",
       "    .dataframe thead th {\n",
       "        text-align: right;\n",
       "    }\n",
       "</style>\n",
       "<table border=\"1\" class=\"dataframe\">\n",
       "  <thead>\n",
       "    <tr style=\"text-align: right;\">\n",
       "      <th></th>\n",
       "      <th>non_suicide</th>\n",
       "      <th>suicide</th>\n",
       "    </tr>\n",
       "  </thead>\n",
       "  <tbody>\n",
       "    <tr>\n",
       "      <th>0</th>\n",
       "      <td>0.020971</td>\n",
       "      <td>-0.343747</td>\n",
       "    </tr>\n",
       "  </tbody>\n",
       "</table>\n",
       "</div>"
      ],
      "text/plain": [
       "   non_suicide   suicide\n",
       "0     0.020971 -0.343747"
      ]
     },
     "execution_count": 19,
     "metadata": {},
     "output_type": "execute_result"
    }
   ],
   "source": [
    "grouped = df_suicide_detection.groupby(df_suicide_detection['class'])['adjusted_sentiment'].apply(list).reset_index()\n",
    "\n",
    "df_sentiment = pd.concat([\n",
    "    pd.DataFrame(grouped['adjusted_sentiment'].iloc[0]).mean(),\n",
    "    pd.DataFrame(grouped['adjusted_sentiment'].iloc[1]).mean()],\n",
    "axis=1,\n",
    ")\n",
    "df_sentiment.columns=['non_suicide','suicide']\n",
    "df_sentiment"
   ]
  },
  {
   "cell_type": "code",
   "execution_count": 20,
   "metadata": {},
   "outputs": [
    {
     "name": "stdout",
     "output_type": "stream",
     "text": [
      "Extremely positive:\n",
      "                                                   corpus  class\n",
      "8576    [may, may, get, notic, post, anyway, care, you...      0\n",
      "15960   [read, love, love, love, love, love, love, lov...      0\n",
      "47133   [your, ever, sad, rememb, your, world, glam, p...      0\n",
      "51231   [remind, kid, eat, rich, eat, rich, eat, rich,...      0\n",
      "100538  [know, yall, struggl, wow, wow, wow, wow, wow,...      0\n",
      "102353  [unpopular, opinion, peopl, alway, think, life...      0\n",
      "128874  [good, day, pleas, thank, good, day, good, day...      0\n",
      "155426  [school, motto, kinda, cring, care, share, dar...      0\n",
      "170713  [copypasta, im, six, pardon, grammar, nasti, c...      0\n",
      "177068  [mf, like, mf, like, mf, like, mf, like, mf, l...      0\n",
      "178552  [love, love, love, love, love, love, love, lov...      0\n",
      "206473  [georg, floyd, moment, xd, xd, xd, xd, xd, xd,...      0\n"
     ]
    }
   ],
   "source": [
    "extremely_positive = df_suicide_detection[df_suicide_detection['adjusted_sentiment'].apply(lambda x: x > 0.999)]\n",
    "\n",
    "print(\"Extremely positive:\")\n",
    "print(extremely_positive[['corpus', 'class']])"
   ]
  },
  {
   "cell_type": "markdown",
   "metadata": {},
   "source": [
    "Length correlation"
   ]
  },
  {
   "cell_type": "code",
   "execution_count": 21,
   "metadata": {},
   "outputs": [
    {
     "name": "stdout",
     "output_type": "stream",
     "text": [
      "Correlation between text length and sentiment: -0.18553369080021795\n"
     ]
    }
   ],
   "source": [
    "correlation = df_suicide_detection['post_length'].corr(df_suicide_detection['adjusted_sentiment'])\n",
    "print(f\"Correlation between text length and sentiment: {correlation}\")"
   ]
  },
  {
   "cell_type": "markdown",
   "metadata": {},
   "source": [
    "The correlation of -0.1855 suggests a weak but negative relationship between text length and sentiment."
   ]
  }
 ],
 "metadata": {
  "kernelspec": {
   "display_name": "Python 3.10.11 ('venv': venv)",
   "language": "python",
   "name": "python3"
  },
  "language_info": {
   "codemirror_mode": {
    "name": "ipython",
    "version": 3
   },
   "file_extension": ".py",
   "mimetype": "text/x-python",
   "name": "python",
   "nbconvert_exporter": "python",
   "pygments_lexer": "ipython3",
   "version": "3.10.11"
  },
  "orig_nbformat": 4,
  "vscode": {
   "interpreter": {
    "hash": "d66d549bdef250af71f18e523f93ac3dcbb8bf027e6088d6eb631521c6a7e128"
   }
  }
 },
 "nbformat": 4,
 "nbformat_minor": 2
}
