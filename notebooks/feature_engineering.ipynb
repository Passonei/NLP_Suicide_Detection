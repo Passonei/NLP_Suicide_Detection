{
 "cells": [
  {
   "cell_type": "code",
   "execution_count": 1,
   "metadata": {},
   "outputs": [],
   "source": [
    "import sys\n",
    "import json\n",
    "sys.path.append('..')\n",
    "import pandas as pd\n",
    "# from src.preprocessing import Preprocessor\n",
    "from src.feature_engineering import FeatureCreator"
   ]
  },
  {
   "cell_type": "code",
   "execution_count": 2,
   "metadata": {},
   "outputs": [],
   "source": [
    "df = pd.read_csv('../data/raw/Suicide_Detection.csv', usecols=['text','class'])\n",
    "df['class'] = df['class'].map({'suicide': 1, 'non-suicide':0})"
   ]
  },
  {
   "cell_type": "code",
   "execution_count": 3,
   "metadata": {},
   "outputs": [],
   "source": [
    "with open('../config/config.json', 'r') as file:\n",
    "        config = json.load(file)\n",
    "\n",
    "procedure_feature_preclean = config['feature_engineering']['procedure_before_preprocessing']\n",
    "procedure_feature_postclean = config['feature_engineering']['procedure_after_preprocessing']"
   ]
  },
  {
   "cell_type": "code",
   "execution_count": 4,
   "metadata": {},
   "outputs": [],
   "source": [
    "feature_creator_preclean = FeatureCreator(procedure=procedure_feature_preclean)\n",
    "length_exclamation = [feature_creator_preclean.fit(document) for document in df['text']]\n",
    "length = [x for x,y in length_exclamation]\n",
    "exclamation = [y for x,y in length_exclamation]"
   ]
  },
  {
   "cell_type": "code",
   "execution_count": 5,
   "metadata": {},
   "outputs": [],
   "source": [
    "df = pd.read_csv('../data/prepared/prepared_2.csv', usecols=['corpus','class'])\n",
    "df['corpus'] = df['corpus'].apply(lambda x: x[1:-1].replace(\"'\", \"\").split(', '))"
   ]
  },
  {
   "cell_type": "code",
   "execution_count": 6,
   "metadata": {},
   "outputs": [
    {
     "name": "stdout",
     "output_type": "stream",
     "text": [
      "Vectorizer ready!\n"
     ]
    }
   ],
   "source": [
    "feature_creator_postclean = FeatureCreator(procedure=procedure_feature_postclean)\n",
    "feature_creator_postclean.fit_vectorizer(df['corpus'])\n",
    "\n",
    "print('Vectorizer ready!')\n",
    "sentiment_keyword = [feature_creator_postclean.fit(document) for document in df['corpus']]\n",
    "sentiment = [x for x,y in sentiment_keyword]\n",
    "keyword = [y for x,y in sentiment_keyword]"
   ]
  },
  {
   "cell_type": "code",
   "execution_count": 7,
   "metadata": {},
   "outputs": [],
   "source": [
    "df = pd.concat(\n",
    "    [pd.DataFrame(length),\n",
    "    pd.DataFrame(exclamation),\n",
    "    pd.DataFrame(sentiment),\n",
    "    pd.DataFrame(keyword),\n",
    "    df['class'],\n",
    "    ],\n",
    "    axis=1\n",
    ")\n",
    "df.columns = ['length', 'exclamation', 'negative', 'neutral', 'positive', 'compound', 'keyword', 'class']"
   ]
  },
  {
   "cell_type": "code",
   "execution_count": 13,
   "metadata": {},
   "outputs": [],
   "source": [
    "# df.to_csv(\"../data/prepared/new_features.csv\")"
   ]
  }
 ],
 "metadata": {
  "kernelspec": {
   "display_name": "Python 3.10.11 ('venv': venv)",
   "language": "python",
   "name": "python3"
  },
  "language_info": {
   "codemirror_mode": {
    "name": "ipython",
    "version": 3
   },
   "file_extension": ".py",
   "mimetype": "text/x-python",
   "name": "python",
   "nbconvert_exporter": "python",
   "pygments_lexer": "ipython3",
   "version": "3.10.11"
  },
  "orig_nbformat": 4,
  "vscode": {
   "interpreter": {
    "hash": "d66d549bdef250af71f18e523f93ac3dcbb8bf027e6088d6eb631521c6a7e128"
   }
  }
 },
 "nbformat": 4,
 "nbformat_minor": 2
}
