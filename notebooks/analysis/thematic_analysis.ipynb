{
 "cells": [
  {
   "cell_type": "code",
   "execution_count": 5,
   "metadata": {},
   "outputs": [],
   "source": [
    "import pandas as pd\n",
    "from sklearn.feature_extraction.text import TfidfVectorizer\n",
    "from sklearn.decomposition import LatentDirichletAllocation"
   ]
  },
  {
   "cell_type": "code",
   "execution_count": 6,
   "metadata": {},
   "outputs": [],
   "source": [
    "df_suicide_detection = pd.read_csv('../../data/prepared/prepared.csv').drop('Unnamed: 0',axis=1)\n",
    "df_suicide_detection['corpus'] = df_suicide_detection['corpus'].apply(lambda x: x[1:-1].replace(\"'\", \"\").split(', '))"
   ]
  },
  {
   "cell_type": "code",
   "execution_count": 7,
   "metadata": {},
   "outputs": [],
   "source": [
    "vectorizer = TfidfVectorizer(max_df=0.95, min_df=2, stop_words='english')\n",
    "X = vectorizer.fit_transform(df_suicide_detection['corpus'].apply(lambda x: ' '.join(x)))\n",
    "Y = df_suicide_detection['class'].values"
   ]
  },
  {
   "cell_type": "code",
   "execution_count": 8,
   "metadata": {},
   "outputs": [],
   "source": [
    "X_suicide = X[Y == 1]\n",
    "X_non_suicide = X[Y == 0]"
   ]
  },
  {
   "cell_type": "code",
   "execution_count": 9,
   "metadata": {},
   "outputs": [],
   "source": [
    "lda_model = LatentDirichletAllocation(n_components=5, max_iter=5, learning_method='online', random_state=42)\n",
    "lda_output = lda_model.fit_transform(X_suicide)"
   ]
  },
  {
   "cell_type": "code",
   "execution_count": 10,
   "metadata": {},
   "outputs": [
    {
     "name": "stdout",
     "output_type": "stream",
     "text": [
      "Suicide topic 1:\n",
      "['thisiv', 'metal', 'liveim', 'mewhi', 'poem', 'quickest', 'vision', 'tonighti', 'km', 'donei']\n",
      "Suicide topic 2:\n",
      "['aroundi', 'publicli', 'plz', 'intox', 'pillsi', 'lifemi', 'worthlessi', 'deathim', 'hereim', 'myselfit']\n",
      "Suicide topic 3:\n",
      "['suicid', 'time', 'think', 'ive', 'know', 'like', 'life', 'feel', 'want', 'im']\n",
      "Suicide topic 4:\n",
      "['doneiv', 'sadder', 'somethingi', 'longeri', 'euthanasia', 'reset', 'arteri', 'talki', 'ibuprofen', 'exit']\n",
      "Suicide topic 5:\n",
      "['failurei', 'inher', 'whywhi', 'everyonei', 'badi', 'correctli', 'onei', 'occupi', 'inch', 'mg']\n"
     ]
    }
   ],
   "source": [
    "for idx, topic in enumerate(lda_model.components_):\n",
    "    print(f\"Suicide topic {idx+1}:\")\n",
    "    print([vectorizer.get_feature_names_out()[i] for i in topic.argsort()[-10:]])"
   ]
  },
  {
   "cell_type": "code",
   "execution_count": 11,
   "metadata": {},
   "outputs": [],
   "source": [
    "lda_model = LatentDirichletAllocation(n_components=5, max_iter=5, learning_method='online', random_state=42)\n",
    "lda_output = lda_model.fit_transform(X_non_suicide)"
   ]
  },
  {
   "cell_type": "code",
   "execution_count": 12,
   "metadata": {},
   "outputs": [
    {
     "name": "stdout",
     "output_type": "stream",
     "text": [
      "Non suicide topic 1:\n",
      "['link', 'code', 'channel', 'simp', 'loudly_crying_fac', 'discord', 'pensive_fac', 'join', 'server', 'award']\n",
      "Non suicide topic 2:\n",
      "['smiling_face_with_heart', 'nnn', 'offici', 'birthday', 'user', 'flair', 'nut', 'u200b', 'ampxb', 'smiling_face_with_sunglass']\n",
      "Non suicide topic 3:\n",
      "['girl', 'fuck', 'know', 'post', 'na', 'want', 'guy', 'filler', 'like', 'im']\n",
      "Non suicide topic 4:\n",
      "['touch', 'valentin', 'homi', 'exam', 'weary_fac', 'haha', 'hmu', 'mask', 'pic', 'flushed_fac']\n",
      "Non suicide topic 5:\n",
      "['emoji', 'skirt', 'u200e', 'pizza', 'spotifi', 'pleading_fac', 'cum', 'song', 'click', 'playlist']\n"
     ]
    }
   ],
   "source": [
    "for idx, topic in enumerate(lda_model.components_):\n",
    "    print(f\"Non suicide topic {idx+1}:\")\n",
    "    print([vectorizer.get_feature_names_out()[i] for i in topic.argsort()[-10:]])"
   ]
  },
  {
   "cell_type": "markdown",
   "metadata": {},
   "source": [
    "Analiza tematów dotyczących samobójstw:\n",
    "Temat 1: Skupia się na emocjach i myślach związanych z samobójstwem, jak czas, myśli, życie, uczucia i chęć.\n",
    "\n",
    "Temat 2: Wydaje się bardziej zróżnicowany, zawierając słowa, które mogą być powiązane z emocjami, pracą naukową lub problemami codziennymi.\n",
    "\n",
    "Temat 3: Skupia się na mniej konwencjonalnych metodach lub pojęciach związanych z samobójstwem, takich jak nazwy leków czy emocje związane z tymi działaniami.\n",
    "\n",
    "Temat 4: Zawiera słowa sugerujące poczucie beznadziejności, możliwą izolację i myśli samobójcze.\n",
    "\n",
    "Temat 5: Wydaje się zawierać bardziej techniczne lub zewnętrzne terminy, które mogą być powiązane z metodami samookaleczenia lub samobójstwem.\n",
    "\n",
    "Analiza tematów non-suicide:\n",
    "Temat 1: Wydaje się być ogólny, zawierając słowa, które mogą być stosowane w wielu kontekstach, takich jak rozmowy, nudziarstwo, postowanie, itp.\n",
    "\n",
    "Temat 2: Zawiera słowa, które mogą być związane z treściami niemających związku ze samobójstwem, np. polityką, filmami, czy popularnymi tematami.\n",
    "\n",
    "Temat 3: Zawiera słowa bardziej związane z celebracją, takie jak życzenia, urodziny, czy zmiany w profilu, co wydaje się odbiegać od treści samobójczych.\n",
    "\n",
    "Temat 4: Zawiera słowa, które mogą być powszechne w rozmowach codziennych, bez bezpośredniego odniesienia do samobójstwa.\n",
    "\n",
    "Temat 5: Wydaje się zawierać słowa lub frazy, które mogą być bardziej związane z treściami humorystycznymi lub niezwiązane bezpośrednio z samobójstwem.\n",
    "\n",
    "Analiza ta może sugerować różnice w tematach poruszanych w treściach dotyczących samobójstwa i tych, które nie dotyczą tej tematyki. Tematy związane z samobójstwem zawierają słowa związane z emocjami, metodami samookaleczenia i beznadziejnością, podczas gdy tematy non-suicide są bardziej zróżnicowane i skupiają się na różnych, często codziennych, tematach."
   ]
  }
 ],
 "metadata": {
  "kernelspec": {
   "display_name": "Python 3.10.11 ('venv': venv)",
   "language": "python",
   "name": "python3"
  },
  "language_info": {
   "codemirror_mode": {
    "name": "ipython",
    "version": 3
   },
   "file_extension": ".py",
   "mimetype": "text/x-python",
   "name": "python",
   "nbconvert_exporter": "python",
   "pygments_lexer": "ipython3",
   "version": "3.10.11"
  },
  "orig_nbformat": 4,
  "vscode": {
   "interpreter": {
    "hash": "d66d549bdef250af71f18e523f93ac3dcbb8bf027e6088d6eb631521c6a7e128"
   }
  }
 },
 "nbformat": 4,
 "nbformat_minor": 2
}
