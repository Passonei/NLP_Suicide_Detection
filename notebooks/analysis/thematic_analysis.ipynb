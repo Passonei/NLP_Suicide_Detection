{
 "cells": [
  {
   "cell_type": "code",
   "execution_count": 1,
   "metadata": {},
   "outputs": [],
   "source": [
    "import pandas as pd\n",
    "from sklearn.feature_extraction.text import TfidfVectorizer\n",
    "from sklearn.decomposition import LatentDirichletAllocation"
   ]
  },
  {
   "cell_type": "code",
   "execution_count": 2,
   "metadata": {},
   "outputs": [],
   "source": [
    "df_suicide_detection = pd.read_csv('../../data/prepared/prepared_2.csv').drop('Unnamed: 0',axis=1)\n",
    "df_suicide_detection['corpus'] = df_suicide_detection['corpus'].apply(lambda x: x[1:-1].replace(\"'\", \"\").split(', '))"
   ]
  },
  {
   "cell_type": "code",
   "execution_count": 3,
   "metadata": {},
   "outputs": [],
   "source": [
    "vectorizer = TfidfVectorizer(max_df=0.95, min_df=2, stop_words='english')\n",
    "X = vectorizer.fit_transform(df_suicide_detection['corpus'].apply(lambda x: ' '.join(x)))\n",
    "Y = df_suicide_detection['class'].values"
   ]
  },
  {
   "cell_type": "code",
   "execution_count": 4,
   "metadata": {},
   "outputs": [],
   "source": [
    "X_suicide = X[Y == 1]\n",
    "X_non_suicide = X[Y == 0]"
   ]
  },
  {
   "cell_type": "code",
   "execution_count": 5,
   "metadata": {},
   "outputs": [],
   "source": [
    "lda_model = LatentDirichletAllocation(n_components=5, max_iter=5, learning_method='online', random_state=42)\n",
    "lda_output = lda_model.fit_transform(X_suicide)"
   ]
  },
  {
   "cell_type": "code",
   "execution_count": 6,
   "metadata": {},
   "outputs": [
    {
     "name": "stdout",
     "output_type": "stream",
     "text": [
      "Suicide topic 1:\n",
      "['lifeit', 'whywhi', 'quickest', 'talki', 'nail', 'tomorrowi', 'tonightim', 'statist', 'meit', 'endi']\n",
      "Suicide topic 2:\n",
      "['suicid', 'time', 'think', 'ive', 'know', 'like', 'life', 'feel', 'want', 'dont']\n",
      "Suicide topic 3:\n",
      "['idc', 'plz', 'lovei', 'spit', 'copi', 'euthanasia', 'troll', 'ibuprofen', 'sincer', 'fuckin']\n",
      "Suicide topic 4:\n",
      "['booz', 'holi', 'happyi', 'photo', 'overthink', 'enoughi', 'canada', 'paini', 'alivei', 'chicken']\n",
      "Suicide topic 5:\n",
      "['cowardi', 'tommorow', 'homei', 'helppleas', 'sooth', 'ativan', 'rapist', 'everyonei', 'inch', 'alonei']\n"
     ]
    }
   ],
   "source": [
    "for idx, topic in enumerate(lda_model.components_):\n",
    "    print(f\"Suicide topic {idx+1}:\")\n",
    "    print([vectorizer.get_feature_names_out()[i] for i in topic.argsort()[-10:]])"
   ]
  },
  {
   "cell_type": "code",
   "execution_count": 7,
   "metadata": {},
   "outputs": [],
   "source": [
    "lda_model = LatentDirichletAllocation(n_components=5, max_iter=5, learning_method='online', random_state=42)\n",
    "lda_output = lda_model.fit_transform(X_non_suicide)"
   ]
  },
  {
   "cell_type": "code",
   "execution_count": 8,
   "metadata": {},
   "outputs": [
    {
     "name": "stdout",
     "output_type": "stream",
     "text": [
      "Non suicide topic 1:\n",
      "['remov', 'book', 'code', 'tran', 'fail', 'american', 'math', 'lone', 'join', 'song']\n",
      "Non suicide topic 2:\n",
      "['twitch', 'face_with_rolling_ey', 'weary_fac', 'stream', 'u200b', 'simp', 'loudly_crying_fac', 'ampxb', 'pensive_fac', 'karma']\n",
      "Non suicide topic 3:\n",
      "['gang', 'uwu', 'gold', 'thigh', 'homi', 'nut', 'smiling_face_with_sunglass', 'flushed_fac', 'minecraft', 'filler']\n",
      "Non suicide topic 4:\n",
      "['shitpost', 'smiling_face_with_heart', 'smell', 'pleading_fac', 'nnn', 'chees', 'star', 'luck', 'cat', 'horni']\n",
      "Non suicide topic 5:\n",
      "['day', 'peopl', 'girl', 'fuck', 'know', 'post', 'guy', 'want', 'dont', 'like']\n"
     ]
    }
   ],
   "source": [
    "for idx, topic in enumerate(lda_model.components_):\n",
    "    print(f\"Non suicide topic {idx+1}:\")\n",
    "    print([vectorizer.get_feature_names_out()[i] for i in topic.argsort()[-10:]])"
   ]
  },
  {
   "cell_type": "markdown",
   "metadata": {},
   "source": [
    "1. Suicide topics: Keywords suggest various aspects of thoughts, emotions, and actions related to suicide, from wanting to talk about problems to desperation or final action.\n",
    "\n",
    "2. Topics unrelated to suicide: Here, keywords refer to completely different areas, such as social media, video games or everyday conversations, unrelated to suicidal thoughts or emotions."
   ]
  }
 ],
 "metadata": {
  "kernelspec": {
   "display_name": "Python 3.10.11 ('venv': venv)",
   "language": "python",
   "name": "python3"
  },
  "language_info": {
   "codemirror_mode": {
    "name": "ipython",
    "version": 3
   },
   "file_extension": ".py",
   "mimetype": "text/x-python",
   "name": "python",
   "nbconvert_exporter": "python",
   "pygments_lexer": "ipython3",
   "version": "3.10.11"
  },
  "orig_nbformat": 4,
  "vscode": {
   "interpreter": {
    "hash": "d66d549bdef250af71f18e523f93ac3dcbb8bf027e6088d6eb631521c6a7e128"
   }
  }
 },
 "nbformat": 4,
 "nbformat_minor": 2
}
