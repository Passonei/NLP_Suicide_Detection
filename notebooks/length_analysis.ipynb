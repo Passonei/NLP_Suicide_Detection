{
 "cells": [
  {
   "cell_type": "code",
   "execution_count": 1,
   "metadata": {},
   "outputs": [],
   "source": [
    "import pandas as pd\n",
    "from collections import Counter\n",
    "import matplotlib.pyplot as plt"
   ]
  },
  {
   "cell_type": "code",
   "execution_count": 2,
   "metadata": {},
   "outputs": [],
   "source": [
    "df_suicide_detection = pd.read_csv('prepared.csv')"
   ]
  },
  {
   "cell_type": "code",
   "execution_count": 3,
   "metadata": {},
   "outputs": [],
   "source": [
    "data_suicide = df_suicide_detection[df_suicide_detection['class'] == 1]\n",
    "data_non_suicide = df_suicide_detection[df_suicide_detection['class'] == 0]"
   ]
  },
  {
   "cell_type": "code",
   "execution_count": 4,
   "metadata": {},
   "outputs": [
    {
     "data": {
      "text/html": [
       "<div>\n",
       "<style scoped>\n",
       "    .dataframe tbody tr th:only-of-type {\n",
       "        vertical-align: middle;\n",
       "    }\n",
       "\n",
       "    .dataframe tbody tr th {\n",
       "        vertical-align: top;\n",
       "    }\n",
       "\n",
       "    .dataframe thead th {\n",
       "        text-align: right;\n",
       "    }\n",
       "</style>\n",
       "<table border=\"1\" class=\"dataframe\">\n",
       "  <thead>\n",
       "    <tr style=\"text-align: right;\">\n",
       "      <th></th>\n",
       "      <th>suicide</th>\n",
       "      <th>non_suicide</th>\n",
       "      <th>suicide_preprocesing</th>\n",
       "      <th>non_suicide_preprocessing</th>\n",
       "    </tr>\n",
       "  </thead>\n",
       "  <tbody>\n",
       "    <tr>\n",
       "      <th>mean</th>\n",
       "      <td>202.675782</td>\n",
       "      <td>61.184489</td>\n",
       "      <td>79.871952</td>\n",
       "      <td>28.306568</td>\n",
       "    </tr>\n",
       "    <tr>\n",
       "      <th>std</th>\n",
       "      <td>255.314824</td>\n",
       "      <td>139.276488</td>\n",
       "      <td>61.918560</td>\n",
       "      <td>34.114342</td>\n",
       "    </tr>\n",
       "    <tr>\n",
       "      <th>min</th>\n",
       "      <td>1.000000</td>\n",
       "      <td>2.000000</td>\n",
       "      <td>1.000000</td>\n",
       "      <td>1.000000</td>\n",
       "    </tr>\n",
       "    <tr>\n",
       "      <th>25%</th>\n",
       "      <td>60.000000</td>\n",
       "      <td>19.000000</td>\n",
       "      <td>29.000000</td>\n",
       "      <td>10.000000</td>\n",
       "    </tr>\n",
       "    <tr>\n",
       "      <th>50%</th>\n",
       "      <td>127.000000</td>\n",
       "      <td>31.000000</td>\n",
       "      <td>61.000000</td>\n",
       "      <td>17.000000</td>\n",
       "    </tr>\n",
       "    <tr>\n",
       "      <th>75%</th>\n",
       "      <td>251.000000</td>\n",
       "      <td>60.000000</td>\n",
       "      <td>118.000000</td>\n",
       "      <td>31.000000</td>\n",
       "    </tr>\n",
       "    <tr>\n",
       "      <th>max</th>\n",
       "      <td>9684.000000</td>\n",
       "      <td>8220.000000</td>\n",
       "      <td>200.000000</td>\n",
       "      <td>200.000000</td>\n",
       "    </tr>\n",
       "  </tbody>\n",
       "</table>\n",
       "</div>"
      ],
      "text/plain": [
       "          suicide  non_suicide  suicide_preprocesing  \\\n",
       "mean   202.675782    61.184489             79.871952   \n",
       "std    255.314824   139.276488             61.918560   \n",
       "min      1.000000     2.000000              1.000000   \n",
       "25%     60.000000    19.000000             29.000000   \n",
       "50%    127.000000    31.000000             61.000000   \n",
       "75%    251.000000    60.000000            118.000000   \n",
       "max   9684.000000  8220.000000            200.000000   \n",
       "\n",
       "      non_suicide_preprocessing  \n",
       "mean                  28.306568  \n",
       "std                   34.114342  \n",
       "min                    1.000000  \n",
       "25%                   10.000000  \n",
       "50%                   17.000000  \n",
       "75%                   31.000000  \n",
       "max                  200.000000  "
      ]
     },
     "execution_count": 4,
     "metadata": {},
     "output_type": "execute_result"
    }
   ],
   "source": [
    "len_documents = pd.concat(\n",
    "    [data_suicide['length'].describe(),\n",
    "    data_non_suicide['length'].describe(),\n",
    "    data_suicide['post_length'].describe(),\n",
    "    data_non_suicide['post_length'].describe()],\n",
    "    axis=1\n",
    ")\n",
    "len_documents.columns = [\"suicide\",\"non_suicide\",\"suicide_preprocesing\", \"non_suicide_preprocessing\"]\n",
    "len_documents.drop('count')"
   ]
  },
  {
   "cell_type": "code",
   "execution_count": 9,
   "metadata": {},
   "outputs": [
    {
     "data": {
      "image/png": "[encoded data removed]",
      "text/plain": [
       "<Figure size 720x288 with 2 Axes>"
      ]
     },
     "metadata": {
      "needs_background": "light"
     },
     "output_type": "display_data"
    }
   ],
   "source": [
    "plt.figure(figsize=(10, 4))\n",
    "\n",
    "plt.subplot(1, 2, 1)\n",
    "plt.hist(data_suicide['length'],bins=30, alpha=0.7, color='red', label='Suicide')\n",
    "plt.title('Histogram of length - Suicide')\n",
    "plt.xticks(rotation=45)\n",
    "\n",
    "plt.subplot(1, 2, 2)\n",
    "plt.hist(data_non_suicide['length'], bins=30, alpha=0.5, color='blue', label='Non-Suicide')\n",
    "plt.title('Histogram of length - Non-Suicide')\n",
    "plt.xticks(rotation=45)\n",
    "\n",
    "plt.tight_layout()\n",
    "plt.show()"
   ]
  }
 ],
 "metadata": {
  "kernelspec": {
   "display_name": "Python 3.10.11 64-bit (microsoft store)",
   "language": "python",
   "name": "python3"
  },
  "language_info": {
   "codemirror_mode": {
    "name": "ipython",
    "version": 3
   },
   "file_extension": ".py",
   "mimetype": "text/x-python",
   "name": "python",
   "nbconvert_exporter": "python",
   "pygments_lexer": "ipython3",
   "version": "3.10.11"
  },
  "orig_nbformat": 4,
  "vscode": {
   "interpreter": {
    "hash": "7b1f2b33e866b0bf2409397e5f58ba9cdf170d3b7f64c8f359c79998e2f88ad4"
   }
  }
 },
 "nbformat": 4,
 "nbformat_minor": 2
}
