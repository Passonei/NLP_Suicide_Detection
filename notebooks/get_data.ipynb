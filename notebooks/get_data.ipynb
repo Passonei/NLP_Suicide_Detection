{
 "cells": [
  {
   "cell_type": "code",
   "execution_count": 8,
   "metadata": {},
   "outputs": [
    {
     "name": "stderr",
     "output_type": "stream",
     "text": [
      "775.19s - pydevd: Sending message related to process being replaced timed-out after 5 seconds\n"
     ]
    },
    {
     "name": "stdout",
     "output_type": "stream",
     "text": [
      "Requirement already satisfied: kaggle in /home/mark-wsl/code/NLP_Suicide_Detection/venv/lib/python3.8/site-packages (1.5.16)\n",
      "Requirement already satisfied: bleach in /home/mark-wsl/code/NLP_Suicide_Detection/venv/lib/python3.8/site-packages (from kaggle) (6.1.0)\n",
      "Requirement already satisfied: certifi in /home/mark-wsl/code/NLP_Suicide_Detection/venv/lib/python3.8/site-packages (from kaggle) (2023.11.17)\n",
      "Requirement already satisfied: python-dateutil in /home/mark-wsl/code/NLP_Suicide_Detection/venv/lib/python3.8/site-packages (from kaggle) (2.8.2)\n",
      "Requirement already satisfied: python-slugify in /home/mark-wsl/code/NLP_Suicide_Detection/venv/lib/python3.8/site-packages (from kaggle) (8.0.1)\n",
      "Requirement already satisfied: requests in /home/mark-wsl/code/NLP_Suicide_Detection/venv/lib/python3.8/site-packages (from kaggle) (2.31.0)\n",
      "Requirement already satisfied: six>=1.10 in /home/mark-wsl/code/NLP_Suicide_Detection/venv/lib/python3.8/site-packages (from kaggle) (1.16.0)\n",
      "Requirement already satisfied: tqdm in /home/mark-wsl/code/NLP_Suicide_Detection/venv/lib/python3.8/site-packages (from kaggle) (4.66.1)\n",
      "Requirement already satisfied: urllib3 in /home/mark-wsl/code/NLP_Suicide_Detection/venv/lib/python3.8/site-packages (from kaggle) (2.1.0)\n",
      "Requirement already satisfied: webencodings in /home/mark-wsl/code/NLP_Suicide_Detection/venv/lib/python3.8/site-packages (from bleach->kaggle) (0.5.1)\n",
      "Requirement already satisfied: text-unidecode>=1.3 in /home/mark-wsl/code/NLP_Suicide_Detection/venv/lib/python3.8/site-packages (from python-slugify->kaggle) (1.3)\n",
      "Requirement already satisfied: idna<4,>=2.5 in /home/mark-wsl/code/NLP_Suicide_Detection/venv/lib/python3.8/site-packages (from requests->kaggle) (3.6)\n",
      "Requirement already satisfied: charset-normalizer<4,>=2 in /home/mark-wsl/code/NLP_Suicide_Detection/venv/lib/python3.8/site-packages (from requests->kaggle) (3.3.2)\n"
     ]
    },
    {
     "name": "stderr",
     "output_type": "stream",
     "text": [
      "781.06s - pydevd: Sending message related to process being replaced timed-out after 5 seconds\n"
     ]
    },
    {
     "name": "stdout",
     "output_type": "stream",
     "text": [
      "Warning: Your Kaggle API key is readable by other users on this system! To fix this, you can run 'chmod 600 /home/mark-wsl/.kaggle/kaggle.json'\n",
      "Downloading suicide-watch.zip to ../datas/raw\n",
      "100%|██████████████████████████████████████| 60.6M/60.6M [00:53<00:00, 1.23MB/s]\n",
      "100%|██████████████████████████████████████| 60.6M/60.6M [00:53<00:00, 1.19MB/s]\n"
     ]
    },
    {
     "name": "stderr",
     "output_type": "stream",
     "text": [
      "841.04s - pydevd: Sending message related to process being replaced timed-out after 5 seconds\n"
     ]
    },
    {
     "name": "stdout",
     "output_type": "stream",
     "text": [
      "Archive:  ../datas/raw/suicide-watch.zip\n",
      "  inflating: ../datas/raw/Suicide_Detection.csv  \n"
     ]
    }
   ],
   "source": [
    "# get data from kaggle \n",
    "! pip install kaggle\n",
    "\n",
    "import os\n",
    "\n",
    "raw_data_path = '../datas/raw'\n",
    "if not os.path.exists(raw_data_path):\n",
    "    os.makedirs(raw_data_path)\n",
    "\n",
    "! kaggle datasets download -d nikhileswarkomati/suicide-watch -p {raw_data_path}\n",
    "\n",
    "zip_file = [file for file in os.listdir(raw_data_path) if file.endswith('.zip')]\n",
    "if zip_file:\n",
    "    zip_file_path = os.path.join(raw_data_path, zip_file[0])\n",
    "    unzip_cmd = f'unzip {zip_file_path} -d {raw_data_path}'\n",
    "    ! $unzip_cmd\n",
    "    os.remove(zip_file_path)\n"
   ]
  }
 ],
 "metadata": {
  "kernelspec": {
   "display_name": "venv",
   "language": "python",
   "name": "python3"
  },
  "language_info": {
   "codemirror_mode": {
    "name": "ipython",
    "version": 3
   },
   "file_extension": ".py",
   "mimetype": "text/x-python",
   "name": "python",
   "nbconvert_exporter": "python",
   "pygments_lexer": "ipython3",
   "version": "3.8.10"
  }
 },
 "nbformat": 4,
 "nbformat_minor": 2
}
