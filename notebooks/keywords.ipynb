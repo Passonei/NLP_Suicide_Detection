{
 "cells": [
  {
   "cell_type": "code",
   "execution_count": 15,
   "metadata": {},
   "outputs": [],
   "source": [
    "import pandas as pd\n",
    "import seaborn as sns\n",
    "import matplotlib.pyplot as plt\n",
    "from sklearn.feature_extraction.text import TfidfVectorizer"
   ]
  },
  {
   "cell_type": "code",
   "execution_count": 13,
   "metadata": {},
   "outputs": [],
   "source": [
    "df_suicide_detection = pd.read_csv('../data/prepared/prepared.csv').drop('Unnamed: 0',axis=1)\n",
    "df_suicide_detection['corpus'] = df_suicide_detection['corpus'].apply(lambda x: x[1:-1].replace(\"'\", \"\").split(', '))"
   ]
  },
  {
   "cell_type": "code",
   "execution_count": 70,
   "metadata": {},
   "outputs": [],
   "source": [
    "vectorizer = TfidfVectorizer(max_df=0.9, min_df=5, stop_words='english')\n",
    "X = vectorizer.fit_transform(df_suicide_detection['corpus'].apply(lambda x: ' '.join(x)))"
   ]
  },
  {
   "cell_type": "code",
   "execution_count": 71,
   "metadata": {},
   "outputs": [],
   "source": [
    "features = vectorizer.get_feature_names_out()"
   ]
  },
  {
   "cell_type": "code",
   "execution_count": 72,
   "metadata": {},
   "outputs": [],
   "source": [
    "first_doc = X[0]\n",
    "top_tfidf_idxs = first_doc.toarray().argsort()[0][::-1][:10]"
   ]
  },
  {
   "cell_type": "code",
   "execution_count": 73,
   "metadata": {},
   "outputs": [
    {
     "name": "stdout",
     "output_type": "stream",
     "text": [
      "['threaten', 'wife', 'cheat', 'tirelessli', 'day', 'hesit', 'happen', 'insecur', 'began', 'refus']\n"
     ]
    },
    {
     "data": {
      "text/plain": [
       "'ex wife threaten suiciderec left wife good cheat twice lie much decid refus go back day ago began threaten suicid tirelessli spent paat day talk keep hesit want believ ill come back know lot peopl threaten order get way happen realli suppos handl death hand still love wife deal get cheat constantli feel insecur im worri today may day hope much doesnt happen'"
      ]
     },
     "execution_count": 73,
     "metadata": {},
     "output_type": "execute_result"
    }
   ],
   "source": [
    "top_words = [features[i] for i in top_tfidf_idxs]\n",
    "print(top_words)\n",
    "' '.join(df_suicide_detection['corpus'].iloc[0])"
   ]
  },
  {
   "cell_type": "code",
   "execution_count": 74,
   "metadata": {},
   "outputs": [],
   "source": [
    "key_words = [features[document.toarray().argsort()[0][::-1][0]] for document in X]"
   ]
  },
  {
   "cell_type": "code",
   "execution_count": 75,
   "metadata": {},
   "outputs": [
    {
     "data": {
      "text/html": [
       "<div>\n",
       "<style scoped>\n",
       "    .dataframe tbody tr th:only-of-type {\n",
       "        vertical-align: middle;\n",
       "    }\n",
       "\n",
       "    .dataframe tbody tr th {\n",
       "        vertical-align: top;\n",
       "    }\n",
       "\n",
       "    .dataframe thead th {\n",
       "        text-align: right;\n",
       "    }\n",
       "</style>\n",
       "<table border=\"1\" class=\"dataframe\">\n",
       "  <thead>\n",
       "    <tr style=\"text-align: right;\">\n",
       "      <th></th>\n",
       "      <th>text</th>\n",
       "      <th>class</th>\n",
       "      <th>corpus</th>\n",
       "      <th>length</th>\n",
       "      <th>post_length</th>\n",
       "      <th>key_words</th>\n",
       "    </tr>\n",
       "  </thead>\n",
       "  <tbody>\n",
       "    <tr>\n",
       "      <th>0</th>\n",
       "      <td>Ex Wife Threatening SuicideRecently I left my ...</td>\n",
       "      <td>1</td>\n",
       "      <td>[ex, wife, threaten, suiciderec, left, wife, g...</td>\n",
       "      <td>143</td>\n",
       "      <td>63</td>\n",
       "      <td>threaten</td>\n",
       "    </tr>\n",
       "    <tr>\n",
       "      <th>1</th>\n",
       "      <td>Am I weird I don't get affected by compliments...</td>\n",
       "      <td>0</td>\n",
       "      <td>[weird, get, affect, compliment, come, someon,...</td>\n",
       "      <td>27</td>\n",
       "      <td>13</td>\n",
       "      <td>compliment</td>\n",
       "    </tr>\n",
       "    <tr>\n",
       "      <th>2</th>\n",
       "      <td>Finally 2020 is almost over... So I can never ...</td>\n",
       "      <td>0</td>\n",
       "      <td>[final, almost, never, hear, bad, year, ever, ...</td>\n",
       "      <td>26</td>\n",
       "      <td>11</td>\n",
       "      <td>swear</td>\n",
       "    </tr>\n",
       "    <tr>\n",
       "      <th>3</th>\n",
       "      <td>i need helpjust help me im crying so hard</td>\n",
       "      <td>1</td>\n",
       "      <td>[need, helpjust, help, im, cri, hard]</td>\n",
       "      <td>9</td>\n",
       "      <td>6</td>\n",
       "      <td>helpjust</td>\n",
       "    </tr>\n",
       "    <tr>\n",
       "      <th>4</th>\n",
       "      <td>I’m so lostHello, my name is Adam (16) and I’v...</td>\n",
       "      <td>1</td>\n",
       "      <td>[im, losthello, name, adam, ive, struggl, year...</td>\n",
       "      <td>438</td>\n",
       "      <td>200</td>\n",
       "      <td>ive</td>\n",
       "    </tr>\n",
       "    <tr>\n",
       "      <th>...</th>\n",
       "      <td>...</td>\n",
       "      <td>...</td>\n",
       "      <td>...</td>\n",
       "      <td>...</td>\n",
       "      <td>...</td>\n",
       "      <td>...</td>\n",
       "    </tr>\n",
       "    <tr>\n",
       "      <th>232029</th>\n",
       "      <td>If you don't like rock then your not going to ...</td>\n",
       "      <td>0</td>\n",
       "      <td>[like, rock, go, get, anyth, go]</td>\n",
       "      <td>19</td>\n",
       "      <td>6</td>\n",
       "      <td>rock</td>\n",
       "    </tr>\n",
       "    <tr>\n",
       "      <th>232030</th>\n",
       "      <td>You how you can tell i have so many friends an...</td>\n",
       "      <td>0</td>\n",
       "      <td>[tell, mani, friend, lone, everyth, depriv, pr...</td>\n",
       "      <td>31</td>\n",
       "      <td>13</td>\n",
       "      <td>depriv</td>\n",
       "    </tr>\n",
       "    <tr>\n",
       "      <th>232031</th>\n",
       "      <td>pee probably tastes like salty tea😏💦‼️ can som...</td>\n",
       "      <td>0</td>\n",
       "      <td>[pee, probabl, tast, like, salti, tea, smirkin...</td>\n",
       "      <td>14</td>\n",
       "      <td>15</td>\n",
       "      <td>double_exclamation_mark</td>\n",
       "    </tr>\n",
       "    <tr>\n",
       "      <th>232032</th>\n",
       "      <td>The usual stuff you find hereI'm not posting t...</td>\n",
       "      <td>1</td>\n",
       "      <td>[usual, stuff, find, hereim, post, sympathi, p...</td>\n",
       "      <td>364</td>\n",
       "      <td>152</td>\n",
       "      <td>tough</td>\n",
       "    </tr>\n",
       "    <tr>\n",
       "      <th>232033</th>\n",
       "      <td>I still haven't beaten the first boss in Hollo...</td>\n",
       "      <td>0</td>\n",
       "      <td>[still, havent, beaten, first, boss, hollow, k...</td>\n",
       "      <td>33</td>\n",
       "      <td>19</td>\n",
       "      <td>knight</td>\n",
       "    </tr>\n",
       "  </tbody>\n",
       "</table>\n",
       "<p>232034 rows × 6 columns</p>\n",
       "</div>"
      ],
      "text/plain": [
       "                                                     text  class  \\\n",
       "0       Ex Wife Threatening SuicideRecently I left my ...      1   \n",
       "1       Am I weird I don't get affected by compliments...      0   \n",
       "2       Finally 2020 is almost over... So I can never ...      0   \n",
       "3               i need helpjust help me im crying so hard      1   \n",
       "4       I’m so lostHello, my name is Adam (16) and I’v...      1   \n",
       "...                                                   ...    ...   \n",
       "232029  If you don't like rock then your not going to ...      0   \n",
       "232030  You how you can tell i have so many friends an...      0   \n",
       "232031  pee probably tastes like salty tea😏💦‼️ can som...      0   \n",
       "232032  The usual stuff you find hereI'm not posting t...      1   \n",
       "232033  I still haven't beaten the first boss in Hollo...      0   \n",
       "\n",
       "                                                   corpus  length  \\\n",
       "0       [ex, wife, threaten, suiciderec, left, wife, g...     143   \n",
       "1       [weird, get, affect, compliment, come, someon,...      27   \n",
       "2       [final, almost, never, hear, bad, year, ever, ...      26   \n",
       "3                   [need, helpjust, help, im, cri, hard]       9   \n",
       "4       [im, losthello, name, adam, ive, struggl, year...     438   \n",
       "...                                                   ...     ...   \n",
       "232029                   [like, rock, go, get, anyth, go]      19   \n",
       "232030  [tell, mani, friend, lone, everyth, depriv, pr...      31   \n",
       "232031  [pee, probabl, tast, like, salti, tea, smirkin...      14   \n",
       "232032  [usual, stuff, find, hereim, post, sympathi, p...     364   \n",
       "232033  [still, havent, beaten, first, boss, hollow, k...      33   \n",
       "\n",
       "        post_length                key_words  \n",
       "0                63                 threaten  \n",
       "1                13               compliment  \n",
       "2                11                    swear  \n",
       "3                 6                 helpjust  \n",
       "4               200                      ive  \n",
       "...             ...                      ...  \n",
       "232029            6                     rock  \n",
       "232030           13                   depriv  \n",
       "232031           15  double_exclamation_mark  \n",
       "232032          152                    tough  \n",
       "232033           19                   knight  \n",
       "\n",
       "[232034 rows x 6 columns]"
      ]
     },
     "execution_count": 75,
     "metadata": {},
     "output_type": "execute_result"
    }
   ],
   "source": [
    "df_suicide_detection['key_words'] = key_words\n",
    "df_suicide_detection"
   ]
  }
 ],
 "metadata": {
  "kernelspec": {
   "display_name": "Python 3.10.11 ('venv': venv)",
   "language": "python",
   "name": "python3"
  },
  "language_info": {
   "codemirror_mode": {
    "name": "ipython",
    "version": 3
   },
   "file_extension": ".py",
   "mimetype": "text/x-python",
   "name": "python",
   "nbconvert_exporter": "python",
   "pygments_lexer": "ipython3",
   "version": "3.10.11"
  },
  "orig_nbformat": 4,
  "vscode": {
   "interpreter": {
    "hash": "d66d549bdef250af71f18e523f93ac3dcbb8bf027e6088d6eb631521c6a7e128"
   }
  }
 },
 "nbformat": 4,
 "nbformat_minor": 2
}
