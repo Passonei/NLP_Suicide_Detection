{
 "cells": [
  {
   "cell_type": "code",
   "execution_count": 9,
   "metadata": {},
   "outputs": [],
   "source": [
    "import sys\n",
    "sys.path.append('../..')\n",
    "import pandas as pd\n",
    "from sklearn.model_selection import train_test_split\n",
    "from sklearn.model_selection import cross_val_score \n",
    "from sklearn.neighbors import KNeighborsClassifier\n",
    "from sklearn.ensemble import RandomForestClassifier"
   ]
  },
  {
   "cell_type": "code",
   "execution_count": 10,
   "metadata": {},
   "outputs": [],
   "source": [
    "models_config = {\n",
    "    \"knn\": KNeighborsClassifier(n_neighbors=3),\n",
    "    \"RandomForest\": RandomForestClassifier()\n",
    "}"
   ]
  },
  {
   "cell_type": "code",
   "execution_count": 11,
   "metadata": {},
   "outputs": [],
   "source": [
    "df_x = pd.read_csv('../../data/prepared/new_features.csv')\n",
    "df_x = df_x.drop('Unnamed: 0', axis=1)\n",
    "df_x.columns = ['length', 'exclamation', 'negative', 'neutral', 'positive', 'compound', 'keyword', 'class']"
   ]
  },
  {
   "cell_type": "code",
   "execution_count": 12,
   "metadata": {},
   "outputs": [],
   "source": [
    "df_x['class'] = df_x['class'].astype(int)\n",
    "df_x['keyword'] = df_x['keyword'].astype('category')\n",
    "df_x['keyword'] = df_x['keyword'].cat.codes"
   ]
  },
  {
   "cell_type": "code",
   "execution_count": 17,
   "metadata": {},
   "outputs": [
    {
     "name": "stdout",
     "output_type": "stream",
     "text": [
      "Model: knn\n",
      "Training score: 0.8252481062034632\n",
      "Testing score: 0.715206241110297\n",
      "Cross validation score: 0.7017690033029885\n",
      "\n",
      "\n",
      "Model: RandomForest\n",
      "Training score: 0.9540532094867623\n",
      "Testing score: 0.7359812077065644\n",
      "Cross validation score: 0.7347893219831307\n",
      "\n",
      "\n"
     ]
    }
   ],
   "source": [
    "X_train, X_test, y_train, y_test = train_test_split(df_x[['negative', 'neutral', 'positive', 'compound']], df_x['class'], test_size=0.2, random_state=42)\n",
    "\n",
    "for model_name, model in models_config.items():\n",
    "    print(f\"Model: {model_name}\")\n",
    "    model.fit(X_train, y_train)\n",
    "    print(f\"Training score: {model.score(X_train, y_train)}\")\n",
    "    print(f\"Testing score: {model.score(X_test, y_test)}\")\n",
    "    print(f\"Cross validation score: {cross_val_score(model, df_x[['negative', 'neutral', 'positive', 'compound']], df_x['class'], cv=5).mean()}\")\n",
    "    print(\"\\n\")"
   ]
  }
 ],
 "metadata": {
  "kernelspec": {
   "display_name": "Python 3.10.11 ('venv': venv)",
   "language": "python",
   "name": "python3"
  },
  "language_info": {
   "codemirror_mode": {
    "name": "ipython",
    "version": 3
   },
   "file_extension": ".py",
   "mimetype": "text/x-python",
   "name": "python",
   "nbconvert_exporter": "python",
   "pygments_lexer": "ipython3",
   "version": "3.10.11"
  },
  "orig_nbformat": 4,
  "vscode": {
   "interpreter": {
    "hash": "d66d549bdef250af71f18e523f93ac3dcbb8bf027e6088d6eb631521c6a7e128"
   }
  }
 },
 "nbformat": 4,
 "nbformat_minor": 2
}
