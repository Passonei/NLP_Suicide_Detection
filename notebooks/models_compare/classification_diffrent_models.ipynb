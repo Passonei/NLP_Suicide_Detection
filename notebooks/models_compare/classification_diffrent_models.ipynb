{
 "cells": [
  {
   "cell_type": "code",
   "execution_count": 1,
   "metadata": {},
   "outputs": [],
   "source": [
    "import sys\n",
    "sys.path.append('../..')\n",
    "import pandas as pd\n",
    "from sklearn.feature_extraction.text import TfidfVectorizer\n",
    "from sklearn.model_selection import train_test_split\n",
    "from sklearn.model_selection import cross_val_score \n",
    "from sklearn.naive_bayes import MultinomialNB\n",
    "from sklearn.neighbors import KNeighborsClassifier\n",
    "from sklearn.linear_model import LogisticRegression\n",
    "from sklearn.svm import SVC\n",
    "from sklearn.ensemble import RandomForestClassifier\n",
    "from sklearn.model_selection import GridSearchCV"
   ]
  },
  {
   "cell_type": "code",
   "execution_count": 2,
   "metadata": {},
   "outputs": [],
   "source": [
    "df = pd.read_csv('../../datas/prepared/prepared.csv', usecols=['corpus','class'])\n",
    "df['corpus'] = df['corpus'].apply(lambda x: x[1:-1].replace(\"'\", \"\").split(', '))"
   ]
  },
  {
   "cell_type": "markdown",
   "metadata": {},
   "source": [
    "TF-IDF"
   ]
  },
  {
   "cell_type": "code",
   "execution_count": 3,
   "metadata": {},
   "outputs": [],
   "source": [
    "vectorizer = TfidfVectorizer(max_df=0.95, min_df=2, stop_words='english')\n",
    "X = vectorizer.fit_transform(df['corpus'].apply(lambda x: ' '.join(x)))\n",
    "Y = df['class'].values"
   ]
  },
  {
   "cell_type": "code",
   "execution_count": 23,
   "metadata": {},
   "outputs": [
    {
     "data": {
      "text/plain": [
       "0    5085\n",
       "1    4915\n",
       "Name: count, dtype: int64"
      ]
     },
     "execution_count": 23,
     "metadata": {},
     "output_type": "execute_result"
    }
   ],
   "source": [
    "pd.Series(Y[:10000]).value_counts()"
   ]
  },
  {
   "cell_type": "code",
   "execution_count": 24,
   "metadata": {},
   "outputs": [],
   "source": [
    "X_down_sampled, Y_down_sampled = X[:10000], Y[:10000]\n",
    "X_train_down_sampled, X_test_down_sampled, y_train_down_sampled, y_test_down_sampled = train_test_split(\n",
    "    X_down_sampled, Y_down_sampled, test_size=0.2, random_state=42)"
   ]
  },
  {
   "cell_type": "code",
   "execution_count": 25,
   "metadata": {},
   "outputs": [],
   "source": [
    "models_config = {\n",
    "    \"naive_bayes\": MultinomialNB(),\n",
    "    \"RandomForest\": RandomForestClassifier(\n",
    "        n_estimators=100, max_depth=10, \n",
    "        random_state=0),\n",
    "    \"svm\": SVC(gamma='scale'),\n",
    "    \"knn\": KNeighborsClassifier(),\n",
    "    \"logistic_regression\": LogisticRegression(\n",
    "        random_state=0),\n",
    "}"
   ]
  },
  {
   "cell_type": "code",
   "execution_count": 26,
   "metadata": {},
   "outputs": [
    {
     "name": "stdout",
     "output_type": "stream",
     "text": [
      "Model: naive_bayes\n",
      "Training score: 0.833\n",
      "Testing score: 0.7665\n",
      "Cross validation score: 0.7779\n",
      "\n",
      "Model: RandomForest\n",
      "Training score: 0.828875\n",
      "Testing score: 0.8065\n",
      "Cross validation score: 0.805\n",
      "\n",
      "Model: svm\n",
      "Training score: 0.988375\n",
      "Testing score: 0.9035\n",
      "Cross validation score: 0.9020999999999999\n",
      "\n",
      "Model: knn\n",
      "Training score: 0.511875\n",
      "Testing score: 0.516\n",
      "Cross validation score: 0.5089\n",
      "\n",
      "Model: logistic_regression\n",
      "Training score: 0.931125\n",
      "Testing score: 0.895\n",
      "Cross validation score: 0.8985000000000001\n",
      "\n"
     ]
    }
   ],
   "source": [
    "for model_name, model in models_config.items():\n",
    "    print(f\"Model: {model_name}\")\n",
    "    model.fit(X_train_down_sampled, y_train_down_sampled)\n",
    "    print(f\"Training score: {model.score(X_train_down_sampled, y_train_down_sampled)}\")\n",
    "    print(f\"Testing score: {model.score(X_test_down_sampled, y_test_down_sampled)}\")\n",
    "    print(f\"Cross validation score: {cross_val_score(model, X_down_sampled, Y_down_sampled, cv=5).mean()}\")\n",
    "    print()"
   ]
  },
  {
   "cell_type": "code",
   "execution_count": 27,
   "metadata": {},
   "outputs": [
    {
     "name": "stdout",
     "output_type": "stream",
     "text": [
      "MultinomialNB(alpha=0.1)\n",
      "Cross validation score: 0.9065678732251928\n"
     ]
    }
   ],
   "source": [
    "model = models_config['naive_bayes']\n",
    "parameters = {'alpha': [0.01, 0.1, 0.5, 1, 2]}\n",
    "gs_clf = GridSearchCV(model, parameters, cv=5, n_jobs=-1)\n",
    "gs_clf.fit(X, Y)\n",
    "print(gs_clf.best_estimator_)\n",
    "print(f\"Cross validation score: {cross_val_score(gs_clf.best_estimator_, X, Y, cv=5).mean()}\")"
   ]
  },
  {
   "cell_type": "code",
   "execution_count": 31,
   "metadata": {},
   "outputs": [],
   "source": [
    "X_train, X_test, y_train, y_test = train_test_split(\n",
    "    X, Y, test_size=0.2, random_state=42)"
   ]
  },
  {
   "cell_type": "code",
   "execution_count": 43,
   "metadata": {},
   "outputs": [
    {
     "name": "stdout",
     "output_type": "stream",
     "text": [
      "Training score: 0.9578892923720138\n",
      "Testing score: 0.9352398603508469\n",
      "Cross validation score: 0.9335367770945837\n"
     ]
    }
   ],
   "source": [
    "model = LogisticRegression(\n",
    "  C=3, max_iter=100, \n",
    "  solver='sag',\n",
    "  random_state=0,\n",
    "  multi_class='multinomial')\n",
    "\n",
    "model.fit(X_train, y_train)\n",
    "print(f\"Training score: {model.score(X_train, y_train)}\")\n",
    "print(f\"Testing score: {model.score(X_test, y_test)}\")\n",
    "print(f\"Cross validation score: {cross_val_score(model, X, Y, cv=5).mean()}\")"
   ]
  }
 ],
 "metadata": {
  "kernelspec": {
   "display_name": "Python 3.10.11 ('venv': venv)",
   "language": "python",
   "name": "python3"
  },
  "language_info": {
   "codemirror_mode": {
    "name": "ipython",
    "version": 3
   },
   "file_extension": ".py",
   "mimetype": "text/x-python",
   "name": "python",
   "nbconvert_exporter": "python",
   "pygments_lexer": "ipython3",
   "version": "3.10.11"
  },
  "orig_nbformat": 4,
  "vscode": {
   "interpreter": {
    "hash": "d66d549bdef250af71f18e523f93ac3dcbb8bf027e6088d6eb631521c6a7e128"
   }
  }
 },
 "nbformat": 4,
 "nbformat_minor": 2
}
