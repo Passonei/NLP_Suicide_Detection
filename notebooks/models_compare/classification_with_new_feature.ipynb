{
 "cells": [
  {
   "cell_type": "code",
   "execution_count": 20,
   "metadata": {},
   "outputs": [],
   "source": [
    "import sys\n",
    "sys.path.append('../..')\n",
    "import pickle\n",
    "import numpy as np\n",
    "import pandas as pd\n",
    "import json\n",
    "from src.preprocessing import Preprocessor\n",
    "from sklearn.feature_extraction.text import TfidfVectorizer\n",
    "from sklearn.model_selection import train_test_split\n",
    "from sklearn.model_selection import cross_val_score \n",
    "from sklearn.naive_bayes import MultinomialNB\n",
    "from sklearn.linear_model import LogisticRegression\n",
    "from scipy.sparse import csr_matrix, hstack\n",
    "from sklearn.metrics import classification_report, confusion_matrix\n",
    "from sklearn.pipeline import Pipeline"
   ]
  },
  {
   "cell_type": "code",
   "execution_count": 21,
   "metadata": {},
   "outputs": [],
   "source": [
    "df = pd.read_csv('../../data/prepared/prepared.csv', index_col=0)\n",
    "df['corpus'] = df['corpus'].apply(lambda x: x[1:-1].replace(\"'\", \"\").split(', '))"
   ]
  },
  {
   "cell_type": "code",
   "execution_count": 22,
   "metadata": {},
   "outputs": [],
   "source": [
    "df_feature = pd.read_csv('../../data/prepared/new_features.csv', index_col=0)"
   ]
  },
  {
   "cell_type": "code",
   "execution_count": 25,
   "metadata": {},
   "outputs": [],
   "source": [
    "df_feature['keywords'] = df_feature['keywords'].apply(lambda x: x[1:-1].replace(\"'\", \"\").split(', '))"
   ]
  },
  {
   "cell_type": "code",
   "execution_count": 27,
   "metadata": {},
   "outputs": [],
   "source": [
    "df['corpus'] = df['corpus'].apply(lambda x: ' '.join(x))\n",
    "df_feature['keywords'] = df_feature['keywords'].apply(lambda x: ' '.join(x))\n",
    "\n",
    "X_train, X_test, y_train, y_test = train_test_split(df['corpus'], df['class'].values, test_size=0.2, random_state=0)"
   ]
  },
  {
   "cell_type": "code",
   "execution_count": 28,
   "metadata": {},
   "outputs": [],
   "source": [
    "vectorizer = TfidfVectorizer(min_df=4, lowercase=False)\n",
    "X_train_vec = vectorizer.fit_transform(X_train)"
   ]
  },
  {
   "cell_type": "code",
   "execution_count": 29,
   "metadata": {},
   "outputs": [],
   "source": [
    "df_feature_train = df_feature[df_feature.index.isin(pd.DataFrame(X_train).index)]\n",
    "df_feature_test = df_feature[df_feature.index.isin(pd.DataFrame(X_test).index)]"
   ]
  },
  {
   "cell_type": "code",
   "execution_count": 27,
   "metadata": {},
   "outputs": [
    {
     "name": "stdout",
     "output_type": "stream",
     "text": [
      "Cross validation Naive Bayes without additional features: 0.915045945234293\n"
     ]
    }
   ],
   "source": [
    "clf_naive_bayes = MultinomialNB(alpha=0.1)\n",
    "        \n",
    "cross = cross_val_score(clf_naive_bayes, X_train_vec, y_train, cv=5).mean()\n",
    "print(f'Cross validation Naive Bayes without additional features: {cross}')"
   ]
  },
  {
   "cell_type": "code",
   "execution_count": 13,
   "metadata": {},
   "outputs": [
    {
     "name": "stdout",
     "output_type": "stream",
     "text": [
      "Cross validation Logistic Regression without additional features: 0.939957324457756\n"
     ]
    }
   ],
   "source": [
    "clf_logistic_regression = LogisticRegression(\n",
    "            C=3, max_iter=100,\n",
    "            solver='sag',\n",
    "            random_state=0,\n",
    "            multi_class='multinomial')\n",
    "\n",
    "cross = cross_val_score(clf_logistic_regression, X_train_vec, y_train, cv=5).mean()\n",
    "print(f'Cross validation Logistic Regression without additional features: {cross}')"
   ]
  },
  {
   "cell_type": "markdown",
   "metadata": {},
   "source": [
    "Additional features"
   ]
  },
  {
   "cell_type": "code",
   "execution_count": 31,
   "metadata": {},
   "outputs": [],
   "source": [
    "sentiment_train = np.array(df_feature_train['compound'].values.reshape(-1, 1))+np.abs(df_feature_train['compound'].min())\n",
    "length_train = np.array(df_feature_train['length'].values.reshape(-1, 1))/df_feature_train['length'].max()\n",
    "\n",
    "length_sparse_train = csr_matrix(length_train)\n",
    "sentiments_sparse_train = csr_matrix(sentiment_train)\n",
    "key_words_sparse_train = vectorizer.transform(df_feature_train['keywords'])\n",
    "\n",
    "X_with_sentiments = hstack([sentiments_sparse_train, X_train_vec])\n",
    "X_with_length = hstack([length_sparse_train, X_train_vec])\n",
    "X_with_keywords = hstack([key_words_sparse_train, X_train_vec])\n",
    "X_with_sentiments_length = hstack([sentiments_sparse_train, length_sparse_train, X_train_vec])\n",
    "X_with_sentiments_keywords = hstack([sentiments_sparse_train, key_words_sparse_train, X_train_vec])\n",
    "X_with_all = hstack([sentiments_sparse_train, length_sparse_train, key_words_sparse_train, X_train_vec])"
   ]
  },
  {
   "cell_type": "code",
   "execution_count": 48,
   "metadata": {},
   "outputs": [],
   "source": [
    "datas = [X_train_vec, X_with_sentiments, X_with_length, X_with_keywords, X_with_sentiments_length, X_with_sentiments_keywords, X_with_all]\n",
    "names = ['none','sentiments', 'length', 'keywords', 'sentiments-length', 'sentiments-keywords', 'all']"
   ]
  },
  {
   "cell_type": "code",
   "execution_count": 49,
   "metadata": {},
   "outputs": [
    {
     "name": "stdout",
     "output_type": "stream",
     "text": [
      "Cross validation Naive Bayes with none: 0.915045945234293\n",
      "Cross validation Naive Bayes with sentiments: 0.9158756086760598\n",
      "Cross validation Naive Bayes with length: 0.9152075664749318\n",
      "Cross validation Naive Bayes with keywords: 0.9063021903298528\n",
      "Cross validation Naive Bayes with sentiments-length: 0.9159833559763235\n",
      "Cross validation Naive Bayes with sentiments-keywords: 0.9068247656503983\n",
      "Cross validation Naive Bayes with all: 0.9068463157780107\n"
     ]
    }
   ],
   "source": [
    "for data, name in zip(datas, names):\n",
    "    cross = cross_val_score(clf_naive_bayes, data, Y, cv=5).mean()\n",
    "    print(f'Cross validation Naive Bayes with {name}: {cross}')"
   ]
  },
  {
   "cell_type": "code",
   "execution_count": 50,
   "metadata": {},
   "outputs": [
    {
     "name": "stdout",
     "output_type": "stream",
     "text": [
      "Cross validation Logistic Regression with none: 0.939957324457756\n",
      "Cross validation Logistic Regression with sentiments: 0.9399788757463412\n",
      "Cross validation Logistic Regression with length: 0.9399411621160096\n",
      "Cross validation Logistic Regression with keywords: 0.9320647684654098\n",
      "Cross validation Logistic Regression with sentiments-length: 0.9399788757463414\n",
      "Cross validation Logistic Regression with sentiments-keywords: 0.9321240306270158\n",
      "Cross validation Logistic Regression with all: 0.9321671300115104\n"
     ]
    }
   ],
   "source": [
    "for data, name in zip(datas, names):\n",
    "    cross = cross_val_score(clf_logistic_regression, data, Y, cv=5).mean()\n",
    "    print(f'Cross validation Logistic Regression with {name}: {cross}')"
   ]
  },
  {
   "cell_type": "code",
   "execution_count": 57,
   "metadata": {},
   "outputs": [],
   "source": [
    "def adjust_sentiment(text, sentiment, help_words):\n",
    "    if any(word in (text) for word in help_words): \n",
    "        return sentiment*0.5\n",
    "    return sentiment"
   ]
  },
  {
   "cell_type": "code",
   "execution_count": 58,
   "metadata": {},
   "outputs": [],
   "source": [
    "df_adjusted = pd.concat(\n",
    "    [X_train,\n",
    "    df_feature_train['compound']],\n",
    "    axis=1\n",
    ")"
   ]
  },
  {
   "cell_type": "code",
   "execution_count": 59,
   "metadata": {},
   "outputs": [
    {
     "name": "stdout",
     "output_type": "stream",
     "text": [
      "Cross validation Logistic Regression with: 0.9401943706371121\n"
     ]
    }
   ],
   "source": [
    "help_words = [\n",
    "'help','suicide','plz', 'cyanide','ibuprofen','charcoal','euthanasia','survivor','please',\n",
    "'unimportant', 'insulin','support', 'urgent', 'emergency']\n",
    "\n",
    "adjusted_compounds = df_adjusted.apply(lambda row: adjust_sentiment(row['corpus'], row['compound'], help_words), axis=1)\n",
    "\n",
    "sentiment_train = np.array(adjusted_compounds.values.reshape(-1, 1))+np.abs(adjusted_compounds.min())\n",
    "sentiments_sparse_train = csr_matrix(sentiment_train)\n",
    "X_with_sentiments_train = hstack([sentiments_sparse_train, X_train_vec])\n",
    "\n",
    "cross = cross_val_score(clf_logistic_regression, X_with_sentiments_train, Y, cv=5).mean()\n",
    "print(f'Cross validation Logistic Regression with: {cross}')"
   ]
  },
  {
   "cell_type": "code",
   "execution_count": 18,
   "metadata": {},
   "outputs": [
    {
     "data": {
      "text/plain": [
       "(array([0.94348669, 0.93966167, 0.94046978, 0.94046978, 0.94197824,\n",
       "        0.94068527, 0.93826096, 0.94046978, 0.93885028, 0.94283713]),\n",
       " 0.9407169576953403)"
      ]
     },
     "execution_count": 18,
     "metadata": {},
     "output_type": "execute_result"
    }
   ],
   "source": [
    "a=cross_val_score(clf_logistic_regression, X_with_sentiments_train, Y, cv=10)\n",
    "a, a.mean()"
   ]
  },
  {
   "cell_type": "code",
   "execution_count": 60,
   "metadata": {},
   "outputs": [],
   "source": [
    "length_test = np.array(df_feature_test['length'].values.reshape(-1, 1))/df_feature_test['length'].max()\n",
    "length_sparse_test = csr_matrix(length_test)"
   ]
  },
  {
   "cell_type": "code",
   "execution_count": 236,
   "metadata": {},
   "outputs": [],
   "source": [
    "X_with_sentiments_train = hstack([sentiments_sparse_train, length_sparse_train, X_train_vec])\n",
    "\n",
    "X_train_vec = vectorizer.fit_transform(X_train)\n",
    "X_test_vec = vectorizer.transform(X_test)\n",
    "\n",
    "adjusted = pd.concat(\n",
    "    [X_test,\n",
    "    df_feature_test['compound']],\n",
    "    axis=1\n",
    ")\n",
    "\n",
    "adjusted_compounds = adjusted.apply(lambda row: adjust_sentiment(row['corpus'], row['compound'], help_words), axis=1)\n",
    "\n",
    "sentiment_test = np.array(adjusted_compounds.values.reshape(-1, 1))+np.abs(adjusted_compounds.min())\n",
    "sentiments_sparse_test = csr_matrix(sentiment_test)\n",
    "\n",
    "X_with_sentiments_test = hstack([sentiments_sparse_test, length_sparse_test, X_test_vec])"
   ]
  },
  {
   "cell_type": "code",
   "execution_count": 259,
   "metadata": {},
   "outputs": [
    {
     "data": {
      "text/plain": [
       "0.9418597133929534"
      ]
     },
     "execution_count": 259,
     "metadata": {},
     "output_type": "execute_result"
    }
   ],
   "source": [
    "clf_logistic_regression.fit(X_with_sentiments_train, y_train)\n",
    "clf_logistic_regression.score(X_with_sentiments_test, y_test)"
   ]
  },
  {
   "cell_type": "code",
   "execution_count": 64,
   "metadata": {},
   "outputs": [],
   "source": [
    "with open('../../models/tfidf_vectorizer.pkl', 'wb') as f:\n",
    "    pickle.dump(vectorizer, f)\n",
    "\n",
    "with open('../../models/clf_logistic_regression.pkl', 'wb') as f:\n",
    "    pickle.dump(clf_logistic_regression, f)"
   ]
  },
  {
   "cell_type": "code",
   "execution_count": 65,
   "metadata": {},
   "outputs": [],
   "source": [
    "y_pred = clf_logistic_regression.predict(X_with_sentiments_test)"
   ]
  },
  {
   "cell_type": "code",
   "execution_count": 66,
   "metadata": {},
   "outputs": [
    {
     "data": {
      "text/plain": [
       "array([[22134,  1167],\n",
       "       [ 1531, 21573]], dtype=int64)"
      ]
     },
     "execution_count": 66,
     "metadata": {},
     "output_type": "execute_result"
    }
   ],
   "source": [
    "confusion_matrix(y_test, y_pred)"
   ]
  },
  {
   "cell_type": "code",
   "execution_count": 67,
   "metadata": {},
   "outputs": [
    {
     "name": "stdout",
     "output_type": "stream",
     "text": [
      "              precision    recall  f1-score   support\n",
      "\n",
      "           0       0.94      0.95      0.94     23301\n",
      "           1       0.95      0.93      0.94     23104\n",
      "\n",
      "    accuracy                           0.94     46405\n",
      "   macro avg       0.94      0.94      0.94     46405\n",
      "weighted avg       0.94      0.94      0.94     46405\n",
      "\n"
     ]
    }
   ],
   "source": [
    "print(classification_report(y_test, y_pred))"
   ]
  }
 ],
 "metadata": {
  "kernelspec": {
   "display_name": "Python 3.10.11 ('venv': venv)",
   "language": "python",
   "name": "python3"
  },
  "language_info": {
   "codemirror_mode": {
    "name": "ipython",
    "version": 3
   },
   "file_extension": ".py",
   "mimetype": "text/x-python",
   "name": "python",
   "nbconvert_exporter": "python",
   "pygments_lexer": "ipython3",
   "version": "3.10.11"
  },
  "orig_nbformat": 4,
  "vscode": {
   "interpreter": {
    "hash": "d66d549bdef250af71f18e523f93ac3dcbb8bf027e6088d6eb631521c6a7e128"
   }
  }
 },
 "nbformat": 4,
 "nbformat_minor": 2
}
