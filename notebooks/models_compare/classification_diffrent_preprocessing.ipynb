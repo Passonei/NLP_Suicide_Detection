{
 "cells": [
  {
   "cell_type": "code",
   "execution_count": 90,
   "metadata": {},
   "outputs": [],
   "source": [
    "import sys\n",
    "sys.path.append('../..')\n",
    "import pandas as pd\n",
    "from src.preprocessing import Preprocessor\n",
    "from src.feature_engineering import FeatureCreator\n",
    "from sklearn.model_selection import train_test_split\n",
    "from sklearn.model_selection import cross_val_score \n",
    "from sklearn.naive_bayes import MultinomialNB\n",
    "from sklearn.linear_model import LogisticRegression\n",
    "import pickle\n",
    "from sklearn.feature_extraction.text import TfidfVectorizer"
   ]
  },
  {
   "cell_type": "code",
   "execution_count": 91,
   "metadata": {},
   "outputs": [],
   "source": [
    "preprocessing_config = {\n",
    "    \"1\": ['lower', 'remove_punctuation', 'remove_links', 'remove_numbers',\n",
    "    'translate_emoji', 'tokenize', 'remove_stopwords', 'stem', 'lemmatize', \n",
    "    'remove_short_words', 'remove_long_words', 'shorten_text'],\n",
    "\n",
    "    \"2\": ['lower', 'remove_punctuation', 'remove_links', 'remove_numbers',\n",
    "    'translate_emoji', 'tokenize', 'remove_stopwords', 'stem', 'lemmatize', \n",
    "    'remove_short_words', 'remove_long_words'],\n",
    "\n",
    "    \"3\": ['lower', 'remove_punctuation', 'remove_links', 'remove_numbers',\n",
    "    'translate_emoji', 'tokenize', 'remove_stopwords', 'stem', 'lemmatize', \n",
    "    'remove_short_words'],\n",
    "\n",
    "    \"4\": ['lower', 'remove_punctuation', 'remove_links', 'remove_numbers',\n",
    "    'translate_emoji', 'tokenize', 'remove_stopwords', 'stem', 'lemmatize'],\n",
    "\n",
    "    \"5\": ['lower', 'remove_punctuation', 'remove_links', 'remove_numbers',\n",
    "    'translate_emoji', 'tokenize', 'remove_stopwords', 'stem'],\n",
    "    \n",
    "    \"6\": ['lower', 'remove_punctuation', 'remove_links', 'remove_numbers',\n",
    "    'translate_emoji', 'tokenize', 'remove_stopwords', 'lemmatize'],\n",
    "}"
   ]
  },
  {
   "cell_type": "code",
   "execution_count": 92,
   "metadata": {},
   "outputs": [],
   "source": [
    "models_config = {\n",
    "    \"naive_bayes\": MultinomialNB(alpha=0.1),\n",
    "    \"logistic_regression\": LogisticRegression(\n",
    "                          C=3, max_iter=100, \n",
    "                          solver='sag',\n",
    "                          random_state=0,\n",
    "                          multi_class='multinomial')\n",
    "}"
   ]
  },
  {
   "cell_type": "code",
   "execution_count": 93,
   "metadata": {},
   "outputs": [
    {
     "name": "stdout",
     "output_type": "stream",
     "text": [
      "Model: naive_bayes, Accuracy: 0.9007 min_df: 0.001, max_df: 0.85\n",
      "Model: naive_bayes, Accuracy: 0.9007 min_df: 0.001, max_df: 0.9\n",
      "Model: naive_bayes, Accuracy: 0.9007 min_df: 0.001, max_df: 1.0\n",
      "Model: naive_bayes, Accuracy: 0.861 min_df: 0.01, max_df: 0.85\n",
      "Model: naive_bayes, Accuracy: 0.861 min_df: 0.01, max_df: 0.9\n",
      "Model: naive_bayes, Accuracy: 0.861 min_df: 0.01, max_df: 1.0\n",
      "Model: naive_bayes, Accuracy: 0.7939 min_df: 0.05, max_df: 0.85\n",
      "Model: naive_bayes, Accuracy: 0.7939 min_df: 0.05, max_df: 0.9\n",
      "Model: naive_bayes, Accuracy: 0.7939 min_df: 0.05, max_df: 1.0\n",
      "Model: logistic_regression, Accuracy: 0.9341 min_df: 0.001, max_df: 0.85\n",
      "Model: logistic_regression, Accuracy: 0.9341 min_df: 0.001, max_df: 0.9\n",
      "Model: logistic_regression, Accuracy: 0.9341 min_df: 0.001, max_df: 1.0\n",
      "Model: logistic_regression, Accuracy: 0.9149 min_df: 0.01, max_df: 0.85\n",
      "Model: logistic_regression, Accuracy: 0.9149 min_df: 0.01, max_df: 0.9\n",
      "Model: logistic_regression, Accuracy: 0.9149 min_df: 0.01, max_df: 1.0\n",
      "Model: logistic_regression, Accuracy: 0.8839 min_df: 0.05, max_df: 0.85\n",
      "Model: logistic_regression, Accuracy: 0.8839 min_df: 0.05, max_df: 0.9\n",
      "Model: logistic_regression, Accuracy: 0.8839 min_df: 0.05, max_df: 1.0\n"
     ]
    }
   ],
   "source": [
    "df = pd.read_csv('../../data/prepared/prepared.csv', usecols=['text','corpus','class'])\n",
    "df['corpus'] = df['corpus'].apply(lambda x: x[1:-1].replace(\"'\", \"\").split(', '))\n",
    "df['corpus'] = df['corpus'].apply(lambda x: ' '.join(x))\n",
    "y = df['class']\n",
    "\n",
    "for model_name, model in models_config.items():\n",
    "    for min_df in [0.001, 0.01, 0.05]:\n",
    "        for max_df in [0.85, 0.9, 1.0]:            \n",
    "            vectorizer = TfidfVectorizer(max_df=max_df, min_df=min_df)\n",
    "            X = vectorizer.fit_transform(df['corpus'])\n",
    "\n",
    "            X_train, X_test, y_train, y_test = train_test_split(X, y, test_size=0.2, random_state=42)\n",
    "\n",
    "            clf = models_config[model_name]\n",
    "            clf.fit(X_train, y_train)\n",
    "            print(f'Model: {model_name}, Accuracy: {clf.score(X_test, y_test).round(4)} min_df: {min_df}, max_df: {max_df}')"
   ]
  },
  {
   "cell_type": "code",
   "execution_count": null,
   "metadata": {},
   "outputs": [],
   "source": [
    "result= []\n",
    "for model_name, model in models_config.items():\n",
    "    for min_df in [1, 3, 4, 5, 6, 8, 9, 10, 1e-07, 1e-06, 5e-06 , 1e-06, 5e-05, 1e-04, 0.001]:         \n",
    "        vectorizer = TfidfVectorizer(min_df=min_df)\n",
    "        X = vectorizer.fit_transform(df['corpus'])\n",
    "\n",
    "        X_train, X_test, y_train, y_test = train_test_split(X, y, test_size=0.2, random_state=42)\n",
    "\n",
    "        clf = models_config[model_name]\n",
    "        clf.fit(X_train, y_train)\n",
    "        result.append([model_name, clf.score(X_test, y_test).round(5), min_df])"
   ]
  },
  {
   "cell_type": "code",
   "execution_count": null,
   "metadata": {},
   "outputs": [],
   "source": [
    "result.sort(key=lambda x: x[1], reverse=True)\n",
    "result = pd.DataFrame(result, columns=['model', 'accuracy', 'min_df'])"
   ]
  },
  {
   "cell_type": "code",
   "execution_count": null,
   "metadata": {},
   "outputs": [
    {
     "data": {
      "text/html": [
       "<div>\n",
       "<style scoped>\n",
       "    .dataframe tbody tr th:only-of-type {\n",
       "        vertical-align: middle;\n",
       "    }\n",
       "\n",
       "    .dataframe tbody tr th {\n",
       "        vertical-align: top;\n",
       "    }\n",
       "\n",
       "    .dataframe thead th {\n",
       "        text-align: right;\n",
       "    }\n",
       "</style>\n",
       "<table border=\"1\" class=\"dataframe\">\n",
       "  <thead>\n",
       "    <tr style=\"text-align: right;\">\n",
       "      <th></th>\n",
       "      <th>model</th>\n",
       "      <th>accuracy</th>\n",
       "      <th>min_df</th>\n",
       "    </tr>\n",
       "  </thead>\n",
       "  <tbody>\n",
       "    <tr>\n",
       "      <th>15</th>\n",
       "      <td>naive_bayes</td>\n",
       "      <td>0.91800</td>\n",
       "      <td>0.000005</td>\n",
       "    </tr>\n",
       "    <tr>\n",
       "      <th>16</th>\n",
       "      <td>naive_bayes</td>\n",
       "      <td>0.91734</td>\n",
       "      <td>3.000000</td>\n",
       "    </tr>\n",
       "    <tr>\n",
       "      <th>17</th>\n",
       "      <td>naive_bayes</td>\n",
       "      <td>0.91703</td>\n",
       "      <td>4.000000</td>\n",
       "    </tr>\n",
       "  </tbody>\n",
       "</table>\n",
       "</div>"
      ],
      "text/plain": [
       "          model  accuracy    min_df\n",
       "15  naive_bayes   0.91800  0.000005\n",
       "16  naive_bayes   0.91734  3.000000\n",
       "17  naive_bayes   0.91703  4.000000"
      ]
     },
     "execution_count": 51,
     "metadata": {},
     "output_type": "execute_result"
    }
   ],
   "source": [
    "result[result['model'] == 'naive_bayes'].sort_values(by='accuracy', ascending=False).iloc[:3]"
   ]
  },
  {
   "cell_type": "code",
   "execution_count": null,
   "metadata": {},
   "outputs": [
    {
     "data": {
      "text/html": [
       "<div>\n",
       "<style scoped>\n",
       "    .dataframe tbody tr th:only-of-type {\n",
       "        vertical-align: middle;\n",
       "    }\n",
       "\n",
       "    .dataframe tbody tr th {\n",
       "        vertical-align: top;\n",
       "    }\n",
       "\n",
       "    .dataframe thead th {\n",
       "        text-align: right;\n",
       "    }\n",
       "</style>\n",
       "<table border=\"1\" class=\"dataframe\">\n",
       "  <thead>\n",
       "    <tr style=\"text-align: right;\">\n",
       "      <th></th>\n",
       "      <th>model</th>\n",
       "      <th>accuracy</th>\n",
       "      <th>min_df</th>\n",
       "    </tr>\n",
       "  </thead>\n",
       "  <tbody>\n",
       "    <tr>\n",
       "      <th>0</th>\n",
       "      <td>linear_regression</td>\n",
       "      <td>0.94238</td>\n",
       "      <td>8.0</td>\n",
       "    </tr>\n",
       "    <tr>\n",
       "      <th>1</th>\n",
       "      <td>linear_regression</td>\n",
       "      <td>0.94223</td>\n",
       "      <td>6.0</td>\n",
       "    </tr>\n",
       "    <tr>\n",
       "      <th>2</th>\n",
       "      <td>linear_regression</td>\n",
       "      <td>0.94216</td>\n",
       "      <td>4.0</td>\n",
       "    </tr>\n",
       "  </tbody>\n",
       "</table>\n",
       "</div>"
      ],
      "text/plain": [
       "               model  accuracy  min_df\n",
       "0  linear_regression   0.94238     8.0\n",
       "1  linear_regression   0.94223     6.0\n",
       "2  linear_regression   0.94216     4.0"
      ]
     },
     "execution_count": 42,
     "metadata": {},
     "output_type": "execute_result"
    }
   ],
   "source": [
    "result[result['model'] == 'logistic_regression'].sort_values(by='accuracy', ascending=False).iloc[:3]"
   ]
  },
  {
   "cell_type": "code",
   "execution_count": null,
   "metadata": {},
   "outputs": [
    {
     "name": "stdout",
     "output_type": "stream",
     "text": [
      "Cross validation\n",
      "Model: naive_bayes, min_df: 4\n",
      "        Accuracy: 0.9151\n",
      "Model: naive_bayes, min_df: 6\n",
      "        Accuracy: 0.9146\n",
      "Model: naive_bayes, min_df: 8\n",
      "        Accuracy: 0.9141\n",
      "Model: naive_bayes, min_df: 3\n",
      "        Accuracy: 0.9154\n",
      "Model: naive_bayes, min_df: 5e-06\n",
      "        Accuracy: 0.9157\n",
      "Model: linear_regression, min_df: 4\n",
      "        Accuracy: 0.9414\n",
      "Model: linear_regression, min_df: 6\n",
      "        Accuracy: 0.9414\n",
      "Model: linear_regression, min_df: 8\n",
      "        Accuracy: 0.9413\n",
      "Model: linear_regression, min_df: 3\n",
      "        Accuracy: 0.9412\n",
      "Model: linear_regression, min_df: 5e-06\n",
      "        Accuracy: 0.9407\n"
     ]
    }
   ],
   "source": [
    "print('Cross validation')   \n",
    "for model_name, model in models_config.items():\n",
    "    for min_df in [4, 6, 8, 3, 5e-06]:      \n",
    "        vectorizer = TfidfVectorizer(min_df=min_df)\n",
    "        X = vectorizer.fit_transform(df['corpus'])\n",
    "\n",
    "        clf = models_config[model_name]\n",
    "        print(f'''Model: {model_name}, min_df: {min_df}\n",
    "        Accuracy: {cross_val_score(clf, X, y, cv=5).mean().round(4)}''')"
   ]
  },
  {
   "cell_type": "code",
   "execution_count": 83,
   "metadata": {},
   "outputs": [],
   "source": [
    "def get_accuracy(procedure_options):\n",
    "    procedure = preprocessing_config[procedure_options]\n",
    "    preprocessing = Preprocessor(procedure=procedure)\n",
    "    corpus = df['text'].apply(lambda x: preprocessing.transform(x))\n",
    "    print('Preprocessing done')\n",
    "    y = df['class'][corpus.astype(bool)].values\n",
    "    corpus = corpus[corpus.astype(bool)]\n",
    "\n",
    "    X = vectorizer.fit_transform(corpus.apply(lambda x: ' '.join(x)))\n",
    "    print('Vectorization done')\n",
    "    for model_name, model in models_config.items():\n",
    "        clf = models_config[model_name]\n",
    "        clf.fit(X_train, y_train)\n",
    "        acc = cross_val_score(clf, X, y, cv=5).mean().round(4)\n",
    "        print(f'Model: {model_name}, Procedure: {procedure_options}, Accuracy: {acc}')\n",
    "        result.append([model_name, procedure_options, acc])"
   ]
  },
  {
   "cell_type": "code",
   "execution_count": 82,
   "metadata": {},
   "outputs": [],
   "source": [
    "vectorizer = TfidfVectorizer(min_df=4)\n",
    "result = []"
   ]
  },
  {
   "cell_type": "code",
   "execution_count": 84,
   "metadata": {},
   "outputs": [
    {
     "name": "stderr",
     "output_type": "stream",
     "text": [
      "[nltk_data] Downloading package wordnet to\n",
      "[nltk_data]     C:\\Users\\user\\AppData\\Roaming\\nltk_data...\n",
      "[nltk_data]   Package wordnet is already up-to-date!\n"
     ]
    },
    {
     "name": "stdout",
     "output_type": "stream",
     "text": [
      "Preprocessing done\n",
      "Vectorization done\n",
      "Model: naive_bayes, Procedure: 1, Accuracy: 0.8999\n",
      "Model: logistic_regression, Procedure: 1, Accuracy: 0.933\n"
     ]
    }
   ],
   "source": [
    "get_accuracy('1')"
   ]
  },
  {
   "cell_type": "code",
   "execution_count": 85,
   "metadata": {},
   "outputs": [
    {
     "name": "stderr",
     "output_type": "stream",
     "text": [
      "[nltk_data] Downloading package wordnet to\n",
      "[nltk_data]     C:\\Users\\user\\AppData\\Roaming\\nltk_data...\n",
      "[nltk_data]   Package wordnet is already up-to-date!\n"
     ]
    },
    {
     "name": "stdout",
     "output_type": "stream",
     "text": [
      "Preprocessing done\n",
      "Vectorization done\n",
      "Model: naive_bayes, Procedure: 2, Accuracy: 0.9004\n",
      "Model: logistic_regression, Procedure: 2, Accuracy: 0.9336\n"
     ]
    }
   ],
   "source": [
    "get_accuracy('2')"
   ]
  },
  {
   "cell_type": "code",
   "execution_count": 86,
   "metadata": {},
   "outputs": [
    {
     "name": "stderr",
     "output_type": "stream",
     "text": [
      "[nltk_data] Downloading package wordnet to\n",
      "[nltk_data]     C:\\Users\\user\\AppData\\Roaming\\nltk_data...\n",
      "[nltk_data]   Package wordnet is already up-to-date!\n"
     ]
    },
    {
     "name": "stdout",
     "output_type": "stream",
     "text": [
      "Preprocessing done\n",
      "Vectorization done\n",
      "Model: naive_bayes, Procedure: 3, Accuracy: 0.9004\n",
      "Model: logistic_regression, Procedure: 3, Accuracy: 0.9336\n"
     ]
    }
   ],
   "source": [
    "get_accuracy('3')"
   ]
  },
  {
   "cell_type": "code",
   "execution_count": 87,
   "metadata": {},
   "outputs": [
    {
     "name": "stderr",
     "output_type": "stream",
     "text": [
      "[nltk_data] Downloading package wordnet to\n",
      "[nltk_data]     C:\\Users\\user\\AppData\\Roaming\\nltk_data...\n",
      "[nltk_data]   Package wordnet is already up-to-date!\n"
     ]
    },
    {
     "name": "stdout",
     "output_type": "stream",
     "text": [
      "Preprocessing done\n",
      "Vectorization done\n",
      "Model: naive_bayes, Procedure: 4, Accuracy: 0.9123\n",
      "Model: logistic_regression, Procedure: 4, Accuracy: 0.9409\n"
     ]
    }
   ],
   "source": [
    "get_accuracy('4')"
   ]
  },
  {
   "cell_type": "code",
   "execution_count": 88,
   "metadata": {},
   "outputs": [
    {
     "name": "stderr",
     "output_type": "stream",
     "text": [
      "[nltk_data] Downloading package wordnet to\n",
      "[nltk_data]     C:\\Users\\user\\AppData\\Roaming\\nltk_data...\n",
      "[nltk_data]   Package wordnet is already up-to-date!\n"
     ]
    },
    {
     "name": "stdout",
     "output_type": "stream",
     "text": [
      "Preprocessing done\n",
      "Vectorization done\n",
      "Model: naive_bayes, Procedure: 5, Accuracy: 0.9124\n",
      "Model: logistic_regression, Procedure: 5, Accuracy: 0.9409\n"
     ]
    }
   ],
   "source": [
    "get_accuracy('5')"
   ]
  },
  {
   "cell_type": "code",
   "execution_count": 89,
   "metadata": {},
   "outputs": [
    {
     "name": "stderr",
     "output_type": "stream",
     "text": [
      "[nltk_data] Downloading package wordnet to\n",
      "[nltk_data]     C:\\Users\\user\\AppData\\Roaming\\nltk_data...\n",
      "[nltk_data]   Package wordnet is already up-to-date!\n"
     ]
    },
    {
     "name": "stdout",
     "output_type": "stream",
     "text": [
      "Preprocessing done\n",
      "Vectorization done\n",
      "Model: naive_bayes, Procedure: 6, Accuracy: 0.9149\n",
      "Model: logistic_regression, Procedure: 6, Accuracy: 0.9413\n"
     ]
    }
   ],
   "source": [
    "get_accuracy('6')"
   ]
  },
  {
   "cell_type": "code",
   "execution_count": 94,
   "metadata": {},
   "outputs": [
    {
     "data": {
      "text/plain": [
       "[['naive_bayes', '1', 0.8999],\n",
       " ['logistic_regression', '1', 0.933],\n",
       " ['naive_bayes', '2', 0.9004],\n",
       " ['logistic_regression', '2', 0.9336],\n",
       " ['naive_bayes', '3', 0.9004],\n",
       " ['logistic_regression', '3', 0.9336],\n",
       " ['naive_bayes', '4', 0.9123],\n",
       " ['logistic_regression', '4', 0.9409],\n",
       " ['naive_bayes', '5', 0.9124],\n",
       " ['logistic_regression', '5', 0.9409],\n",
       " ['naive_bayes', '6', 0.9149],\n",
       " ['logistic_regression', '6', 0.9413]]"
      ]
     },
     "execution_count": 94,
     "metadata": {},
     "output_type": "execute_result"
    }
   ],
   "source": [
    "result"
   ]
  }
 ],
 "metadata": {
  "kernelspec": {
   "display_name": "Python 3.10.11 ('venv': venv)",
   "language": "python",
   "name": "python3"
  },
  "language_info": {
   "codemirror_mode": {
    "name": "ipython",
    "version": 3
   },
   "file_extension": ".py",
   "mimetype": "text/x-python",
   "name": "python",
   "nbconvert_exporter": "python",
   "pygments_lexer": "ipython3",
   "version": "3.10.11"
  },
  "orig_nbformat": 4,
  "vscode": {
   "interpreter": {
    "hash": "d66d549bdef250af71f18e523f93ac3dcbb8bf027e6088d6eb631521c6a7e128"
   }
  }
 },
 "nbformat": 4,
 "nbformat_minor": 2
}
