{
 "cells": [
  {
   "cell_type": "code",
   "execution_count": 1,
   "metadata": {},
   "outputs": [],
   "source": [
    "import sys\n",
    "sys.path.append('..')\n",
    "import json\n",
    "import pandas as pd\n",
    "from src.preprocessing import Preprocessor"
   ]
  },
  {
   "cell_type": "markdown",
   "metadata": {},
   "source": [
    "\n",
    "prepared = [\n",
    "            \"lower\", \n",
    "            \"remove_punctuation\", \n",
    "            \"remove_links\", \n",
    "            \"remove_numbers\", \n",
    "            \"translate_emoji\",\n",
    "            \"tokenize\", \n",
    "            \"remove_stopwords\", \n",
    "            \"shorten_text\",\n",
    "            \"remove_short_words\",\n",
    "            \"stem\" \n",
    "        ]  \n",
    "corpus_02  \n",
    "\"procedure\": [\n",
    "            \"lower\", \n",
    "            \"remove_punctuation\", \n",
    "            \"remove_links\", \n",
    "            \"remove_numbers\", \n",
    "            \"remove_emoji\", \n",
    "            \"tokenize\", \n",
    "            \"remove_stopwords\", \n",
    "            \"shorten_text\",\n",
    "            \"remove_short_words\", \n",
    "            \"stem\"\n",
    "        ]  \n",
    "corpus_01  \n",
    "\"procedure\": [\n",
    "            \"lower\", \n",
    "            \"remove_punctuation\", \n",
    "            \"remove_links\", \n",
    "            \"remove_numbers\", \n",
    "            \"remove_emoji\", \n",
    "            \"tokenize\", \n",
    "            \"remove_stopwords\", \n",
    "            \"shorten_text\",\n",
    "            \"stem\", \"lemmatize\", \n",
    "            \"remove_short_words\", \n",
    "            \"remove_long_words\" \n",
    "        ]"
   ]
  },
  {
   "cell_type": "code",
   "execution_count": 2,
   "metadata": {},
   "outputs": [],
   "source": [
    "df = pd.read_csv('../data/raw/Suicide_Detection.csv', usecols=['text','class'])\n",
    "df['class'] = df['class'].map({'suicide': 1, 'non-suicide':0})"
   ]
  },
  {
   "cell_type": "code",
   "execution_count": 3,
   "metadata": {},
   "outputs": [],
   "source": [
    "with open('../config/config.json', 'r') as file:\n",
    "        config = json.load(file)\n",
    "        \n",
    "procedure = config['preprocessing']['procedure']"
   ]
  },
  {
   "cell_type": "code",
   "execution_count": 4,
   "metadata": {},
   "outputs": [
    {
     "name": "stderr",
     "output_type": "stream",
     "text": [
      "[nltk_data] Downloading package wordnet to\n",
      "[nltk_data]     C:\\Users\\user\\AppData\\Roaming\\nltk_data...\n",
      "[nltk_data]   Package wordnet is already up-to-date!\n"
     ]
    },
    {
     "name": "stdout",
     "output_type": "stream",
     "text": [
      "Preprocessing done!\n"
     ]
    }
   ],
   "source": [
    "preprocessing = Preprocessor(procedure=procedure)\n",
    "corpus = df['text'].apply(lambda x: preprocessing.fit(x))\n",
    "y = df['class'][corpus.astype(bool)]\n",
    "corpus = corpus[corpus.astype(bool)]\n",
    "print('Preprocessing done!')"
   ]
  },
  {
   "cell_type": "code",
   "execution_count": 5,
   "metadata": {},
   "outputs": [],
   "source": [
    "df = pd.concat(\n",
    "    [corpus,\n",
    "    y],\n",
    "    axis=1\n",
    ")"
   ]
  },
  {
   "cell_type": "code",
   "execution_count": 6,
   "metadata": {},
   "outputs": [],
   "source": [
    "# df.to_csv(\"../data/prepared/corpus_02.csv\")"
   ]
  }
 ],
 "metadata": {
  "kernelspec": {
   "display_name": "Python 3.10.11 ('venv': venv)",
   "language": "python",
   "name": "python3"
  },
  "language_info": {
   "codemirror_mode": {
    "name": "ipython",
    "version": 3
   },
   "file_extension": ".py",
   "mimetype": "text/x-python",
   "name": "python",
   "nbconvert_exporter": "python",
   "pygments_lexer": "ipython3",
   "version": "3.10.11"
  },
  "orig_nbformat": 4,
  "vscode": {
   "interpreter": {
    "hash": "d66d549bdef250af71f18e523f93ac3dcbb8bf027e6088d6eb631521c6a7e128"
   }
  }
 },
 "nbformat": 4,
 "nbformat_minor": 2
}
